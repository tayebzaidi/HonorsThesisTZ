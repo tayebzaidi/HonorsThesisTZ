{
 "cells": [
  {
   "cell_type": "code",
   "execution_count": 42,
   "metadata": {
    "collapsed": true
   },
   "outputs": [],
   "source": [
    "import json\n",
    "import numpy as np\n",
    "import sys\n",
    "import matplotlib.pyplot as plt\n",
    "sys.path.append('../gen_lightcurves/gp_smoothed')"
   ]
  },
  {
   "cell_type": "code",
   "execution_count": 43,
   "metadata": {
    "collapsed": true
   },
   "outputs": [],
   "source": [
    "aligned_path = '../gen_lightcurves/gp_smoothed_aligned/'\n",
    "lc_path = '../gen_lightcurves/gp_smoothed/'\n",
    "\n",
    "#Select random lightcurve after looking\n",
    "obj = 'SN2009an'\n",
    "aligned_name = obj+'_aligned_lc.json'\n",
    "lc_name = obj+'_gpsmoothed.json'\n",
    "\n",
    "with open(aligned_path+aligned_name, 'r') as f:\n",
    "    aligned_lc = json.load(f)\n",
    "with open(lc_path+lc_name, 'r') as f:\n",
    "    lc = json.load(f)"
   ]
  },
  {
   "cell_type": "code",
   "execution_count": 44,
   "metadata": {},
   "outputs": [
    {
     "name": "stdout",
     "output_type": "stream",
     "text": [
      "dict_keys(['bsplinemag', 'dmag', 'goodstatus', 'kernel', 'mag', 'mjd', 'modeldate', 'modelerr', 'modelmag', 'shift', 'type'])\n"
     ]
    }
   ],
   "source": [
    "mag_aligned = aligned_lc['g']['modelmag']\n",
    "mjd_aligned = aligned_lc['g']['modeldate']\n",
    "print(aligned_lc['g'].keys())\n",
    "shift = aligned_lc['g']['shift']\n",
    "mag_orig = aligned_lc['g']['mag']\n",
    "mjd_orig = aligned_lc['g']['mjd']\n",
    "\n",
    "mag = lc['g']['modelmag']\n",
    "mjd = lc['g']['modeldate']\n",
    "mag_err = lc['g']['dmag']"
   ]
  },
  {
   "cell_type": "code",
   "execution_count": 66,
   "metadata": {},
   "outputs": [],
   "source": [
    "fig = plt.figure(figsize=(12,6))\n",
    "\n",
    "ax1 = fig.add_subplot(121)\n",
    "ax2 = fig.add_subplot(122)\n",
    "\n",
    "#print(np.array(mjd_orig)-shift)\n",
    "\n",
    "ax1.plot(mjd, mag, color='green')\n",
    "ax1.errorbar(mjd_orig, mag_orig, fmt='o', ecolor='k', yerr=mag_err, color='k', markersize=3,capsize=3)\n",
    "ax1.axvline(x=shift, linewidth=2, linestyle='dashed', color='black')\n",
    "ax1.set_title('Pre-Alignment')\n",
    "ax1.set_ylabel = 'Magnitude (inverted)'\n",
    "ax1.set_xlabel = 'Days'\n",
    "ax1.invert_yaxis()\n",
    "\n",
    "\n",
    "ax2.plot(mjd_aligned, mag_aligned, color = 'green')\n",
    "ax2.errorbar(np.array(mjd_orig)-shift, mag_orig, fmt='o', ecolor='k', yerr=mag_err, color='k', markersize=3,capsize=3)\n",
    "ax2.axvline(linewidth=2, linestyle='dashed', color='black')\n",
    "#ax2.axvline(x=mjd_aligned[0], linewidth=0.5, linestyle='dashed', color='black')\n",
    "#ax2.axvline(x=mjd_aligned[-1], linewidth=0.5, linestyle='dashed', color='black')\n",
    "ax2.set_ylabel = 'Magnitude (inverted)'\n",
    "ax2.set_xlabel = 'Days'\n",
    "ax2.set_title('Post-Alignment')\n",
    "ax2.invert_yaxis()\n",
    "\n",
    "#plt.show()\n",
    "plt.savefig('LCAlign.pdf')\n",
    "#aligned_lc['g'].keys()"
   ]
  },
  {
   "cell_type": "code",
   "execution_count": null,
   "metadata": {
    "collapsed": true
   },
   "outputs": [],
   "source": []
  },
  {
   "cell_type": "code",
   "execution_count": null,
   "metadata": {
    "collapsed": true
   },
   "outputs": [],
   "source": []
  }
 ],
 "metadata": {
  "kernelspec": {
   "display_name": "Python 3",
   "language": "python",
   "name": "python3"
  },
  "language_info": {
   "codemirror_mode": {
    "name": "ipython",
    "version": 3
   },
   "file_extension": ".py",
   "mimetype": "text/x-python",
   "name": "python",
   "nbconvert_exporter": "python",
   "pygments_lexer": "ipython3",
   "version": "3.6.0"
  }
 },
 "nbformat": 4,
 "nbformat_minor": 2
}
