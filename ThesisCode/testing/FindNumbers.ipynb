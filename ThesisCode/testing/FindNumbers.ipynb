{
 "cells": [
  {
   "cell_type": "code",
   "execution_count": 1,
   "metadata": {
    "collapsed": true
   },
   "outputs": [],
   "source": [
    "import json\n",
    "import numpy as np\n",
    "import matplotlib.pyplot as plt\n",
    "import os, sys\n",
    "from collections import Counter"
   ]
  },
  {
   "cell_type": "code",
   "execution_count": 2,
   "metadata": {},
   "outputs": [
    {
     "name": "stdout",
     "output_type": "stream",
     "text": [
      "{'B_kait4 to g', 'V_Swift_Vega to g', 'B_kait3 to g', 'B_kait2 to g', 'B_CfA4_KEP2 to g', 'B_KAIT to g', 'B_NTT_Vega to g', 'V_CfA3_MINI to g', 'V_kait1 to g', 'V_kait4 to g', 'g_CSP to g', 'B_Swift_Vega to g', 'B_CfA3_MINI to g', 'V_CfA3_KEP to g', 'g_SNLS_Vega to g', 'B_Swift to g', 'V__Vega to g', 'B_CfA3_4SH to g', 'V_CTIO-0.9m_Landolt to g', 'V__CSP to g', 'gprime_SDSS_SDSS to g', 'g__CSP to g', 'V_EKAR_Vega to g', 'Vprime_SWO_SDSS to g', 'B_CfA3_KEP to g', 'V_KAIT to g', 'V_NTT_Vega to g', 'B__CSP to g', 'V_kait3 to g', 'gprime__SDSS to g', 'V_Swift_Swift to g', 'V_CfA4_KEP1 to g'}\n"
     ]
    }
   ],
   "source": [
    "path_to_SNe = '../gen_lightcurves/gp_smoothed/'\n",
    "SNe_lightcurves = os.listdir(path_to_SNe)\n",
    "\n",
    "filters = []\n",
    "for lcurve in SNe_lightcurves:\n",
    "    lightcurve_path = path_to_SNe + lcurve\n",
    "    #print(lightcurve_path)\n",
    "    with open(path_to_SNe + lcurve) as f:\n",
    "        lcurve_data = json.load(f)\n",
    "    \n",
    "    filters += [lcurve_data[filt]['mapping'] for filt in lcurve_data if lcurve_data[filt]['mapping'].endswith('to g')]\n",
    "print(set(filters))"
   ]
  },
  {
   "cell_type": "code",
   "execution_count": 5,
   "metadata": {},
   "outputs": [
    {
     "name": "stdout",
     "output_type": "stream",
     "text": [
      "{'B_kait4 to g': Counter(), 'V_Swift_Vega to g': Counter(), 'B_kait3 to g': Counter(), 'B_kait2 to g': Counter(), 'B_CfA4_KEP2 to g': Counter(), 'B_KAIT to g': Counter(), 'B_NTT_Vega to g': Counter(), 'V_CfA3_MINI to g': Counter(), 'V_kait1 to g': Counter(), 'V_kait4 to g': Counter(), 'g_CSP to g': Counter(), 'B_Swift_Vega to g': Counter(), 'B_CfA3_MINI to g': Counter(), 'V_CfA3_KEP to g': Counter(), 'g_SNLS_Vega to g': Counter(), 'B_Swift to g': Counter(), 'V__Vega to g': Counter(), 'B_CfA3_4SH to g': Counter(), 'V_CTIO-0.9m_Landolt to g': Counter(), 'V__CSP to g': Counter(), 'gprime_SDSS_SDSS to g': Counter(), 'g__CSP to g': Counter(), 'V_EKAR_Vega to g': Counter(), 'Vprime_SWO_SDSS to g': Counter(), 'B_CfA3_KEP to g': Counter(), 'V_KAIT to g': Counter(), 'V_NTT_Vega to g': Counter(), 'B__CSP to g': Counter(), 'V_kait3 to g': Counter(), 'gprime__SDSS to g': Counter(), 'V_Swift_Swift to g': Counter(), 'V_CfA4_KEP1 to g': Counter()}\n",
      "B_kait4 to g Counter({'Ia': 7})\n",
      "V_Swift_Vega to g Counter({'Ia': 61, 'II': 53})\n",
      "B_kait3 to g Counter({'Ia': 47, 'II': 2})\n",
      "B_kait2 to g Counter({'Ia': 21, 'II': 2})\n",
      "B_CfA4_KEP2 to g Counter({'II': 2})\n",
      "B_KAIT to g Counter({'II': 19})\n",
      "B_NTT_Vega to g Counter({'II': 6})\n",
      "V_CfA3_MINI to g Counter({'II': 2})\n",
      "V_kait1 to g Counter({'Ia': 2})\n",
      "V_kait4 to g Counter({'Ia': 9, 'II': 2})\n",
      "g_CSP to g Counter({'Ia': 1})\n",
      "B_Swift_Vega to g Counter({'II': 4, 'Ia': 2})\n",
      "B_CfA3_MINI to g Counter({'II': 3})\n",
      "V_CfA3_KEP to g Counter({'II': 6})\n",
      "g_SNLS_Vega to g Counter({'II': 2})\n",
      "B_Swift to g Counter({'II': 5, 'Ia': 1})\n",
      "V__Vega to g Counter({'II': 40})\n",
      "B_CfA3_4SH to g Counter({'II': 3})\n",
      "V_CTIO-0.9m_Landolt to g Counter({'II': 1})\n",
      "V__CSP to g Counter({'Ia': 1})\n",
      "gprime_SDSS_SDSS to g Counter({'II': 1303, 'Ia': 735})\n",
      "g__CSP to g Counter({'Ia': 64, 'II': 1})\n",
      "V_EKAR_Vega to g Counter({'II': 1})\n",
      "Vprime_SWO_SDSS to g Counter({'II': 1})\n",
      "B_CfA3_KEP to g Counter({'II': 15})\n",
      "V_KAIT to g Counter({'II': 5})\n",
      "V_NTT_Vega to g Counter({'II': 1})\n",
      "B__CSP to g Counter({'Ia': 5})\n",
      "V_kait3 to g Counter({'Ia': 3})\n",
      "gprime__SDSS to g Counter({'II': 6})\n",
      "V_Swift_Swift to g Counter({'Ia': 1})\n",
      "V_CfA4_KEP1 to g Counter({'II': 11})\n"
     ]
    }
   ],
   "source": [
    "filter_set = set(filters)\n",
    "master_counter = {}\n",
    "for filt in filter_set:\n",
    "    master_counter[filt] = Counter()\n",
    "print(master_counter)\n",
    "\n",
    "for lcurve in SNe_lightcurves:\n",
    "    lightcurve_path = path_to_SNe + lcurve\n",
    "    #print(lightcurve_path)\n",
    "    with open(path_to_SNe + lcurve) as f:\n",
    "        lcurve_data = json.load(f)\n",
    "    \n",
    "    if 'g' not in lcurve_data.keys():\n",
    "        continue\n",
    "    filter_mapping = lcurve_data['g']['mapping']\n",
    "    if filter_mapping not in filter_set:\n",
    "        continue\n",
    "    \n",
    "    sntype = lcurve_data['g']['type']\n",
    "    if sntype != 'Ia':\n",
    "        sntype = 'II'\n",
    "\n",
    "    master_counter[filter_mapping].update([sntype])\n",
    "for key in master_counter:\n",
    "    print(key, master_counter[key])\n"
   ]
  },
  {
   "cell_type": "code",
   "execution_count": null,
   "metadata": {
    "collapsed": true
   },
   "outputs": [],
   "source": []
  }
 ],
 "metadata": {
  "kernelspec": {
   "display_name": "Python 3",
   "language": "python",
   "name": "python3"
  },
  "language_info": {
   "codemirror_mode": {
    "name": "ipython",
    "version": 3
   },
   "file_extension": ".py",
   "mimetype": "text/x-python",
   "name": "python",
   "nbconvert_exporter": "python",
   "pygments_lexer": "ipython3",
   "version": "3.6.0"
  }
 },
 "nbformat": 4,
 "nbformat_minor": 2
}
