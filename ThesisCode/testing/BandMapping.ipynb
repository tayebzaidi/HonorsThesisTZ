{
 "cells": [
  {
   "cell_type": "code",
   "execution_count": 1,
   "metadata": {
    "collapsed": false
   },
   "outputs": [
    {
     "name": "stdout",
     "output_type": "stream",
     "text": [
      "BandMapping.ipynb   bestrest.pro\t   PythonRinterface\r\n",
      "bandMappingTest.py  loadFileTesting.ipynb  quickCode\r\n"
     ]
    }
   ],
   "source": [
    "!ls"
   ]
  },
  {
   "cell_type": "code",
   "execution_count": 2,
   "metadata": {
    "collapsed": false
   },
   "outputs": [],
   "source": [
    "import json\n",
    "import numpy as np\n",
    "import os\n",
    "import sys\n",
    "sys.path.append('../classification')"
   ]
  },
  {
   "cell_type": "code",
   "execution_count": 3,
   "metadata": {
    "collapsed": false
   },
   "outputs": [],
   "source": [
    "path_to_SNe = '../gen_lightcurves/gp_smoothed/'\n",
    "SNe_lightcurves = os.listdir(path_to_SNe)"
   ]
  },
  {
   "cell_type": "code",
   "execution_count": null,
   "metadata": {
    "collapsed": false
   },
   "outputs": [],
   "source": [
    "filters = []\n",
    "for lcurve in SNe_lightcurves:\n",
    "    with open(path_to_SNe + lcurve) as f:\n",
    "        lcurve_data = json.load(f)\n",
    "    filters += list(lcurve_data.keys())\n",
    "print(set(filters))"
   ]
  },
  {
   "cell_type": "code",
   "execution_count": null,
   "metadata": {
    "collapsed": false
   },
   "outputs": [],
   "source": [
    "len(set(filters))"
   ]
  },
  {
   "cell_type": "code",
   "execution_count": null,
   "metadata": {
    "collapsed": false
   },
   "outputs": [],
   "source": [
    "import itertools\n",
    "import operator\n",
    "from collections import Counter\n",
    "\n",
    "def most_common(L):\n",
    "  # get an iterable of (item, iterable) pairs\n",
    "  SL = sorted((x, i) for i, x in enumerate(L))\n",
    "  # print 'SL:', SL\n",
    "  groups = itertools.groupby(SL, key=operator.itemgetter(0))\n",
    "  # auxiliary function to get \"quality\" for an item\n",
    "  def _auxfun(g):\n",
    "    item, iterable = g\n",
    "    count = 0\n",
    "    min_index = len(L)\n",
    "    for _, where in iterable:\n",
    "      count += 1\n",
    "      min_index = min(min_index, where)\n",
    "    # print 'item %r, count %r, minind %r' % (item, count, min_index)\n",
    "    return count, -min_index\n",
    "  # pick the highest-count/earliest item\n",
    "  return max(groups, key=_auxfun)[0]\n",
    "\n",
    "most_common(filters)\n",
    "Counter(filters)"
   ]
  },
  {
   "cell_type": "code",
   "execution_count": null,
   "metadata": {
    "collapsed": false
   },
   "outputs": [],
   "source": [
    "count = 0\n",
    "total = 0\n",
    "for filt in filters:\n",
    "    total+=1\n",
    "    if filt[0] in ['g','r','i','z', 'u', 'U', 'B','y','V','R', 'I', 'Y']:\n",
    "        count += 1\n",
    "    else:\n",
    "        if filt != 'C_Catalina Schmidt':\n",
    "            pass\n",
    "            #print(filt)\n",
    "print(count)\n",
    "print(total)\n",
    "print(count/total)"
   ]
  },
  {
   "cell_type": "code",
   "execution_count": null,
   "metadata": {
    "collapsed": false
   },
   "outputs": [],
   "source": [
    "filters_B = []\n",
    "for filt in filters:\n",
    "    if filt[0] == 'u':\n",
    "        filters_B.append(filt)\n",
    "c = Counter(filters_B)\n",
    "print(c)"
   ]
  },
  {
   "cell_type": "code",
   "execution_count": null,
   "metadata": {
    "collapsed": false
   },
   "outputs": [],
   "source": [
    "count = 0\n",
    "failed = 0\n",
    "filters = []\n",
    "filter_set = set(['g','r','i','z'])\n",
    "for lcurve in SNe_lightcurves:\n",
    "    with open(path_to_SNe + lcurve) as f:\n",
    "        lcurve_data = json.load(f)\n",
    "        \n",
    "    filters = list(lcurve_data.keys())\n",
    "    \n",
    "    filters_eff = []\n",
    "    for filt in filters:\n",
    "        filters_eff.append(filt[0].lower())\n",
    "    \n",
    "    if filter_set.issubset(set(filters_eff)):\n",
    "        count += 1\n",
    "        #print(filters)\n",
    "    else:\n",
    "        failed += 1\n",
    "\n",
    "total = count + failed\n",
    "print(count)\n",
    "print(count/total)"
   ]
  },
  {
   "cell_type": "code",
   "execution_count": 4,
   "metadata": {
    "collapsed": false
   },
   "outputs": [],
   "source": [
    "import bandMap"
   ]
  },
  {
   "cell_type": "code",
   "execution_count": 7,
   "metadata": {
    "collapsed": false
   },
   "outputs": [
    {
     "name": "stdout",
     "output_type": "stream",
     "text": [
      "793\n",
      "0.3133148952983011\n"
     ]
    }
   ],
   "source": [
    "count = 0\n",
    "failed = 0\n",
    "filters = []\n",
    "filter_set = set(['r','g','i'])\n",
    "for lcurve in SNe_lightcurves:\n",
    "    with open(path_to_SNe + lcurve) as f:\n",
    "        lcurve_data = json.load(f)\n",
    "        \n",
    "    lcurve_remapped = bandMap.remapBands(lcurve_data)\n",
    "    \n",
    "    out_filters = set(lcurve_remapped.keys())\n",
    "    \n",
    "    if filter_set.issubset(set(out_filters)):\n",
    "        count += 1\n",
    "        #print(filters)\n",
    "    else:\n",
    "        failed += 1\n",
    "\n",
    "total = count + failed\n",
    "print(count)\n",
    "print(count/total)"
   ]
  },
  {
   "cell_type": "code",
   "execution_count": null,
   "metadata": {
    "collapsed": true
   },
   "outputs": [],
   "source": []
  }
 ],
 "metadata": {
  "kernelspec": {
   "display_name": "Python 3",
   "language": "python",
   "name": "python3"
  },
  "language_info": {
   "codemirror_mode": {
    "name": "ipython",
    "version": 3
   },
   "file_extension": ".py",
   "mimetype": "text/x-python",
   "name": "python",
   "nbconvert_exporter": "python",
   "pygments_lexer": "ipython3",
   "version": "3.6.0"
  }
 },
 "nbformat": 4,
 "nbformat_minor": 2
}
