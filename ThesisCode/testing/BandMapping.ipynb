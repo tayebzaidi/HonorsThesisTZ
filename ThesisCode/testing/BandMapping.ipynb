{
 "cells": [
  {
   "cell_type": "code",
   "execution_count": 1,
   "metadata": {
    "collapsed": false,
    "deletable": true,
    "editable": true
   },
   "outputs": [
    {
     "name": "stdout",
     "output_type": "stream",
     "text": [
      "BandMapping.ipynb\tFixGaussianProcessingKernel.ipynb  PythonRinterface\r\n",
      "bandMappingTest.py\tgenBagidisPlot.R\t\t   quickCode\r\n",
      "bestrest.pro\t\tGenerate_PCA_Inverse.ipynb\t   Untitled.ipynb\r\n",
      "copyTest\t\tloadFileTesting.ipynb\r\n",
      "FeatureStoreTest.ipynb\tnumpyTesting.ipynb\r\n"
     ]
    }
   ],
   "source": [
    "!ls"
   ]
  },
  {
   "cell_type": "code",
   "execution_count": 7,
   "metadata": {
    "collapsed": false,
    "deletable": true,
    "editable": true
   },
   "outputs": [],
   "source": [
    "import json\n",
    "import numpy as np\n",
    "import os\n",
    "import sys\n",
    "sys.path.append('../classification')"
   ]
  },
  {
   "cell_type": "code",
   "execution_count": 8,
   "metadata": {
    "collapsed": false,
    "deletable": true,
    "editable": true
   },
   "outputs": [],
   "source": [
    "path_to_SNe = '../gen_lightcurves/gp_smoothed/'\n",
    "SNe_lightcurves = os.listdir(path_to_SNe)"
   ]
  },
  {
   "cell_type": "code",
   "execution_count": 18,
   "metadata": {
    "collapsed": false,
    "deletable": true,
    "editable": true
   },
   "outputs": [
    {
     "name": "stdout",
     "output_type": "stream",
     "text": [
      "{'V__Vega to g', 'g__CSP to g', 'uprime_SDSS_SDSS to u', 'B_CTIO-1.0m_Landolt to g', 'V_CfA3_4SH_Standard to g', 'V_kait1 to g', 'iprime_SDSS_SDSS to i', 'rprime_SDSS_SDSS to r', 'V_CfA4_KEP2_Standard to g', 'I__Vega to i', 'V_LCO-1m_Landolt to g', 'R_KAIT to r', 'B_KAIT to g', 'B_CfA3_4SH_Standard to g', 'B_CTIO-0.9m_Landolt to g', 'gprime__SDSS to g', 'V_kait2 to g', 'Bprime_SWO_SDSS to g', 'V_Swift_Vega to g', 'B__Standard to g', 'V_CfA3_MINI_Standard to g', 'V_kait3 to g', 'B_Swift_Vega to g', 'R__Vega to r', 'B_CfA4_KEP1_Standard to g', 'V__Landolt to g', 'B_CfA3_KEP_Standard to g', 'zprime_SDSS_SDSS to z', 'Y__CSP to Y', 'B_kait3 to g', 'V_CfA3_KEP_Standard to g', 'gprime_SDSS_SDSS to g', 'B_kait4 to g', 'V__CSP to g', 'U_Swift_Vega to u', 'V_CfA4_KEP1_Standard to g', 'iprime__Standard to i', 'V_kait4 to g', 'V__Standard to g', 'B_kait2 to g', 'V_KAIT to g'}\n"
     ]
    }
   ],
   "source": [
    "filters = []\n",
    "for lcurve in SNe_lightcurves:\n",
    "    lightcurve_path = path_to_SNe + lcurve\n",
    "    #print(lightcurve_path)\n",
    "    with open(path_to_SNe + lcurve) as f:\n",
    "        lcurve_data = json.load(f)\n",
    "    filters += [lcurve_data[list(lcurve_data)[0]]['mapping']]\n",
    "print(set(filters))"
   ]
  },
  {
   "cell_type": "code",
   "execution_count": 5,
   "metadata": {
    "collapsed": false,
    "deletable": true,
    "editable": true
   },
   "outputs": [
    {
     "name": "stdout",
     "output_type": "stream",
     "text": [
      "5779\n",
      "0.8522235680913652\n"
     ]
    },
    {
     "ename": "NameError",
     "evalue": "name 'Counter' is not defined",
     "output_type": "error",
     "traceback": [
      "\u001b[0;31m---------------------------------------------------------------------------\u001b[0m",
      "\u001b[0;31mNameError\u001b[0m                                 Traceback (most recent call last)",
      "\u001b[0;32m<ipython-input-5-3af1665334d0>\u001b[0m in \u001b[0;36m<module>\u001b[0;34m()\u001b[0m\n\u001b[1;32m     21\u001b[0m \u001b[0mprint\u001b[0m\u001b[0;34m(\u001b[0m\u001b[0mtotal\u001b[0m\u001b[0;34m)\u001b[0m\u001b[0;34m\u001b[0m\u001b[0m\n\u001b[1;32m     22\u001b[0m \u001b[0mprint\u001b[0m\u001b[0;34m(\u001b[0m\u001b[0mfound\u001b[0m\u001b[0;34m/\u001b[0m\u001b[0mtotal\u001b[0m\u001b[0;34m)\u001b[0m\u001b[0;34m\u001b[0m\u001b[0m\n\u001b[0;32m---> 23\u001b[0;31m \u001b[0mprint\u001b[0m\u001b[0;34m(\u001b[0m\u001b[0mCounter\u001b[0m\u001b[0;34m(\u001b[0m\u001b[0munmatched\u001b[0m\u001b[0;34m)\u001b[0m\u001b[0;34m)\u001b[0m\u001b[0;34m\u001b[0m\u001b[0m\n\u001b[0m\u001b[1;32m     24\u001b[0m \u001b[0mprint\u001b[0m\u001b[0;34m(\u001b[0m\u001b[0;36m402\u001b[0m\u001b[0;34m/\u001b[0m\u001b[0;36m6717\u001b[0m\u001b[0;34m)\u001b[0m\u001b[0;34m\u001b[0m\u001b[0m\n\u001b[1;32m     25\u001b[0m \u001b[0;34m\u001b[0m\u001b[0m\n",
      "\u001b[0;31mNameError\u001b[0m: name 'Counter' is not defined"
     ]
    }
   ],
   "source": [
    "len(set(filters))\n",
    "unique = list(set(filters))\n",
    "unique = np.array(unique)\n",
    "#print(unique)\n",
    "surveys_ranked = ['cfa', 'csp','kait', 'swift', 'vega','pairitel', 'sdss','landolt','standard']\n",
    "total = 0\n",
    "found = 0\n",
    "unmatched = []\n",
    "for i, filt in enumerate(filters):\n",
    "    total += 1\n",
    "    #print(filt.lower())\n",
    "    \n",
    "    for survey in surveys_ranked:\n",
    "        if survey in filt.lower():\n",
    "            found += 1\n",
    "            break\n",
    "    else:\n",
    "        unmatched += [filt.lower()]\n",
    "    \n",
    "\n",
    "print(total)\n",
    "print(found/total)\n",
    "print(Counter(unmatched))\n",
    "print(402/6717)\n",
    "            \n",
    "\n",
    "#test = np.array(['test', 'testing', 'abcdefghijklmnopq', 'PAIR', 'pair'])\n",
    "#print(np.where('testing' in test))\n",
    "#print([x for x in test if 'PAIR' in x])"
   ]
  },
  {
   "cell_type": "code",
   "execution_count": null,
   "metadata": {
    "collapsed": false,
    "deletable": true,
    "editable": true
   },
   "outputs": [],
   "source": [
    "import itertools\n",
    "import operator\n",
    "from collections import Counter\n",
    "\n",
    "def most_common(L):\n",
    "  # get an iterable of (item, iterable) pairs\n",
    "  SL = sorted((x, i) for i, x in enumerate(L))\n",
    "  # print 'SL:', SL\n",
    "  groups = itertools.groupby(SL, key=operator.itemgetter(0))\n",
    "  # auxiliary function to get \"quality\" for an item\n",
    "  def _auxfun(g):\n",
    "    item, iterable = g\n",
    "    count = 0\n",
    "    min_index = len(L)\n",
    "    for _, where in iterable:\n",
    "      count += 1\n",
    "      min_index = min(min_index, where)\n",
    "    # print 'item %r, count %r, minind %r' % (item, count, min_index)\n",
    "    return count, -min_index\n",
    "  # pick the highest-count/earliest item\n",
    "  return max(groups, key=_auxfun)[0]\n",
    "\n",
    "most_common(filters)\n",
    "Counter(filters)"
   ]
  },
  {
   "cell_type": "code",
   "execution_count": null,
   "metadata": {
    "collapsed": false,
    "deletable": true,
    "editable": true
   },
   "outputs": [],
   "source": [
    "count = 0\n",
    "total = 0\n",
    "for filt in filters:\n",
    "    total+=1\n",
    "    if filt[0] in ['g','r','i','z', 'u', 'U', 'B','V','R', 'I', 'Y']:\n",
    "        count += 1\n",
    "    else:\n",
    "        if filt != 'C_Catalina Schmidt':\n",
    "            pass\n",
    "            #print(filt)\n",
    "print(count)\n",
    "print(total)\n",
    "print(count/total)"
   ]
  },
  {
   "cell_type": "code",
   "execution_count": null,
   "metadata": {
    "collapsed": false,
    "deletable": true,
    "editable": true
   },
   "outputs": [],
   "source": [
    "filters_B = []\n",
    "for filt in filters:\n",
    "    if filt[0] == 'u':\n",
    "        filters_B.append(filt)\n",
    "c = Counter(filters_B)\n",
    "print(c)"
   ]
  },
  {
   "cell_type": "code",
   "execution_count": null,
   "metadata": {
    "collapsed": false,
    "deletable": true,
    "editable": true
   },
   "outputs": [],
   "source": [
    "count = 0\n",
    "failed = 0\n",
    "filters = []\n",
    "filter_set = set(['g','r','i','z'])\n",
    "for lcurve in SNe_lightcurves:\n",
    "    with open(path_to_SNe + lcurve) as f:\n",
    "        lcurve_data = json.load(f)\n",
    "        \n",
    "    filters = list(lcurve_data.keys())\n",
    "    \n",
    "    filters_eff = []\n",
    "    for filt in filters:\n",
    "        filters_eff.append(filt[0].lower())\n",
    "    \n",
    "    if filter_set.issubset(set(filters_eff)):\n",
    "        count += 1\n",
    "        #print(filters)\n",
    "    else:\n",
    "        failed += 1\n",
    "\n",
    "total = count + failed\n",
    "print(count)\n",
    "print(count/total)"
   ]
  },
  {
   "cell_type": "code",
   "execution_count": 15,
   "metadata": {
    "collapsed": false,
    "deletable": true,
    "editable": true
   },
   "outputs": [],
   "source": [
    "import bandMap\n",
    "from collections import Counter"
   ]
  },
  {
   "cell_type": "code",
   "execution_count": 25,
   "metadata": {
    "collapsed": false,
    "deletable": true,
    "editable": true
   },
   "outputs": [
    {
     "name": "stdout",
     "output_type": "stream",
     "text": [
      "692\n",
      "0.32983794089609153\n",
      "Counter({'Ia': 390, 'II': 221, 'Ib': 17, 'Ia Pec': 14, 'II P': 13, 'Ic': 12, 'Ic BL': 6, 'IIb': 5, 'Ib/c': 4, 'Ia-02cx': 2, 'Ib Pec': 2, 'SLSN': 2, 'Ibn': 1, 'IIn': 1, 'SLSN-II': 1, 'Ic/Ic-bl': 1})\n",
      "Counter({'rprime_SDSS_SDSS': 378, 'iprime_SDSS_SDSS': 377, 'gprime_SDSS_SDSS': 376, 'V_': 99, 'V__Standard': 89, 'I_kait3': 85, 'R_kait3': 85, 'V_kait3': 85, 'B_kait3': 80, 'B__Standard': 79, 'V__CSP': 71, 'g__CSP': 70, 'i__CSP': 70, 'r__CSP': 70, 'B_': 69, 'B__CSP': 69, 'zprime_SDSS_SDSS': 68, 'iprime__Standard': 54, 'rprime__Standard': 54, 'u__CSP': 47, 'Y__CSP': 42, 'R_': 42, 'uprime_SDSS_SDSS': 39, 'J_PAIRITEL': 37, 'U_': 36, 'H_PAIRITEL': 33, 'J__CSP': 33, 'I__Standard': 33, 'R__Standard': 33, 'I_kait2': 32, 'R_kait2': 32, 'V_kait2': 32, 'Ks_PAIRITEL': 30, 'B_kait2': 30, 'I_': 28, 'H__CSP': 27, 'V_Swift_Vega': 23, 'U__Standard': 22, 'B_Swift_Vega': 22, 'W1_Swift_Vega': 21, 'U_Swift_Vega': 21, 'V_CfA3_KEP_Standard': 20, 'iprime_CfA3_KEP_Standard': 20, 'rprime_CfA3_KEP_Standard': 20, 'J_PAIRITEL_Standard': 19, 'I_kait4': 18, 'H_PAIRITEL_Standard': 18, 'R_kait4': 17, 'Ks_PAIRITEL_Standard': 17, 'V_kait4': 16, 'B_kait4': 13, 'I_KAIT': 13, 'R_KAIT': 13, 'V_KAIT': 13, 'B_CfA3_KEP_Standard': 13, 'W2_Swift_Vega': 13, 'B_KAIT': 12, 'V__Landolt': 12, 'V_CfA4_KEP1_Standard': 11, 'iprime_CfA4_KEP1_Standard': 11, 'rprime_CfA4_KEP1_Standard': 11, 'C_Catalina Schmidt': 9, 'B_CfA4_KEP1_Standard': 9, 'M2_Swift_Vega': 8, 'B_kait1': 5, 'I_kait1': 5, 'R_kait1': 5, 'V_kait1': 5, 'B_LCO-1m_Landolt': 4, 'I_LCO-1m_Landolt': 4, 'R_LCO-1m_Landolt': 4, 'V_LCO-1m_Landolt': 4, 'V_CfA3_MINI_Standard': 4, 'iprime_CfA3_MINI_Standard': 4, 'rprime_CfA3_MINI_Standard': 4, 'gprime__SDSS': 4, 'iprime__SDSS': 4, 'rprime__SDSS': 4, 'uprime__Standard': 4, 'B_CTIO-0.9m_Landolt': 3, 'I_CTIO-0.9m_Landolt': 3, 'R_CTIO-0.9m_Landolt': 3, 'V_CTIO-0.9m_Landolt': 3, 'B_CfA3_4SH_Standard': 3, 'I_CfA3_4SH_Standard': 3, 'R_CfA3_4SH_Standard': 3, 'V_CfA3_4SH_Standard': 3, 'V_nickel': 3, 'B_Swift_Swift': 3, 'U_Swift_Swift': 3, 'V_Swift_Swift': 3, 'W1_Swift_Swift': 3, 'B_CfA3_MINI_Standard': 2, 'H__Standard': 2, 'U_CfA3_MINI_Standard': 2, 'U_CfA3_KEP_Standard': 2, 'B_CfA4_KEP2_Standard': 2, 'V_CfA4_KEP2_Standard': 2, 'iprime_CfA4_KEP2_Standard': 2, 'rprime_CfA4_KEP2_Standard': 2, 'uprime__SDSS': 2, 'B_nickel': 2, 'B_CTIO-1.0m_Landolt': 2, 'I_CTIO-1.0m_Landolt': 2, 'R_CTIO-1.0m_Landolt': 2, 'V_CTIO-1.0m_Landolt': 2, 'M2_Swift_Swift': 2, 'W2_Swift_Swift': 2, 'K__CSP': 1, 'U_CTIO-0.9m_Landolt': 1, 'Z_CTIO-0.9m_Landolt': 1, 'gprime_Palomar-60': 1, 'rprime_Palomar-60': 1, 'J__Standard': 1, 'K__Standard': 1, 'i__Standard': 1, 'r__Standard': 1, 'zprime__SDSS': 1, 'uprime_CfA4_KEP2_Standard': 1, 'U_LCO-1m_Landolt': 1, 'U_CTIO-1.0m_Landolt': 1, 'V__Swope': 1, 'I_nickel': 1, 'Bprime_SWO_SDSS': 1, 'H_SWO': 1, 'J_SWO': 1, 'Vprime_SWO_SDSS': 1, 'Y_SWO': 1, 'gprime_SWO_SDSS': 1, 'iprime_SWO_SDSS': 1, 'rprime_SWO_SDSS': 1, 'uprime_SWO_SDSS': 1, 'U_CfA4_KEP1_Standard': 1, 'H_': 1, 'J_': 1, 'K_': 1, 'z_': 1, 'B__Vega': 1, 'I__AB': 1, 'I__Vega': 1, 'R__AB': 1, 'R__Vega': 1, 'U__Vega': 1, 'V__Vega': 1, 'B_YALO': 1, 'I_YALO': 1, 'R_YALO': 1, 'V_YALO': 1})\n"
     ]
    }
   ],
   "source": [
    "#### FIX BANDMAP to return what mapped to what\n",
    "\n",
    "count = 0\n",
    "failed = 0\n",
    "total = 0\n",
    "filters = []\n",
    "filter_set = set(['g','r','i'])\n",
    "obj_type = Counter()\n",
    "survey = Counter()\n",
    "\n",
    "for i, lcurve in enumerate(SNe_lightcurves):\n",
    "    total += 1\n",
    "    with open(path_to_SNe + lcurve) as f:\n",
    "        lcurve_data = json.load(f)\n",
    "        \n",
    "    #print(lcurve)\n",
    "    lcurve_remapped = bandMap.remapBands(lcurve_data)\n",
    "    \n",
    "    out_filters = set(lcurve_remapped.keys())\n",
    "    \n",
    "    if filter_set.issubset(set(out_filters)):\n",
    "        count += 1\n",
    "        filt_test = list(lcurve_remapped.keys())[0]\n",
    "        obj_type.update([lcurve_remapped[filt_test]['type']])\n",
    "        #survey_name = lcurve_remapped.keys()\n",
    "        survey.update(lcurve_data.keys())\n",
    "        #print(filters)\n",
    "    elif out_filters is not None:\n",
    "        failed += 1\n",
    "    \n",
    "\n",
    "        \n",
    "\n",
    "print(count)\n",
    "print(count/total)\n",
    "print(obj_type)\n",
    "print(survey)"
   ]
  },
  {
   "cell_type": "code",
   "execution_count": null,
   "metadata": {
    "collapsed": true,
    "deletable": true,
    "editable": true
   },
   "outputs": [],
   "source": []
  }
 ],
 "metadata": {
  "kernelspec": {
   "display_name": "Python 3",
   "language": "python",
   "name": "python3"
  },
  "language_info": {
   "codemirror_mode": {
    "name": "ipython",
    "version": 3
   },
   "file_extension": ".py",
   "mimetype": "text/x-python",
   "name": "python",
   "nbconvert_exporter": "python",
   "pygments_lexer": "ipython3",
   "version": "3.6.0"
  }
 },
 "nbformat": 4,
 "nbformat_minor": 2
}
