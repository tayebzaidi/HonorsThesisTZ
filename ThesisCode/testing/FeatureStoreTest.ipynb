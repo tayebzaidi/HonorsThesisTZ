{
 "cells": [
  {
   "cell_type": "code",
   "execution_count": 23,
   "metadata": {
    "collapsed": false
   },
   "outputs": [
    {
     "name": "stdout",
     "output_type": "stream",
     "text": [
      "dict_keys(['B_', 'B__CSP', 'B_kait3', 'H_PAIRITEL', 'H__CSP', 'I_kait3', 'J_PAIRITEL', 'J__CSP', 'Ks_PAIRITEL', 'R_kait3', 'U_', 'V_', 'V__CSP', 'V_kait3', 'Y__CSP', 'g__CSP', 'i__CSP', 'r__CSP', 'u__CSP'])\n",
      "dict_keys(['gprime_SDSS_SDSS', 'rprime_SDSS_SDSS'])\n",
      "dict_keys(['B_', 'I_', 'R_', 'U_', 'V_'])\n",
      "dict_keys(['gprime_SDSS_SDSS', 'iprime_SDSS_SDSS', 'rprime_SDSS_SDSS'])\n",
      "dict_keys(['SN2005el', 'SDSS-II SN 18165', 'SN2004dj', 'SDSS-II SN 13184'])\n"
     ]
    }
   ],
   "source": [
    "#Load a specific lightcurve file for testing purposes\n",
    "import json\n",
    "import sys\n",
    "import numpy as np\n",
    "import emcee\n",
    "import george\n",
    "import matplotlib.pyplot as plt\n",
    "sys.path.append('../classification')\n",
    "import os\n",
    "import bandMap\n",
    "import featureExtraction\n",
    "lightcurve_directory = '../gen_lightcurves/gp_smoothed/'\n",
    "filenames = ['SN2005el_gpsmoothed.json','SDSS-II SN 18165_gpsmoothed.json','SN2004dj_gpsmoothed.json', 'SDSS-II SN 13184_gpsmoothed.json']\n",
    "\n",
    "file_datas = {}\n",
    "\n",
    "for filename in filenames:\n",
    "    name = filename[:-16]\n",
    "    file_datas[name] = {}\n",
    "    filepath = lightcurve_directory + filename\n",
    "    with open(filepath, 'r') as f:\n",
    "         temp_file_datas = json.load(f)\n",
    "    print(temp_file_datas.keys())\n",
    "    for key in temp_file_datas:\n",
    "        file_datas[name][key] = temp_file_datas[key]\n",
    "print(file_datas.keys())"
   ]
  },
  {
   "cell_type": "code",
   "execution_count": 24,
   "metadata": {
    "collapsed": true
   },
   "outputs": [],
   "source": [
    "wavelet_coeffs = {}\n",
    "\n",
    "num_band_coeffs = 10\n",
    "wavelet_type = 'bagidis'\n",
    "wavelet_level = 1\n",
    "\n",
    "num_bands = 3\n",
    "num_coeffs = num_band_coeffs * num_bands\n",
    "num_classes = 3"
   ]
  },
  {
   "cell_type": "code",
   "execution_count": 25,
   "metadata": {
    "collapsed": false
   },
   "outputs": [
    {
     "name": "stdout",
     "output_type": "stream",
     "text": [
      "['u', 'g', 'r', 'i', 'Y']\n",
      "{'SN2005el': {'coeffs': array([ 169.39548978,  -11.79044162,   -3.80905478,   -1.98315614,\n",
      "         -1.96940626,   -1.02722576,   -0.85057462,   -0.73597442,\n",
      "         -0.70742168,   -0.46443375,  162.25505073,   -9.24618659,\n",
      "         -4.21741415,   -1.68445406,   -1.57675959,   -1.55665855,\n",
      "         -0.77349662,   -0.65735869,   -0.62997854,   -0.50885044,\n",
      "        165.17156984,   -8.84111205,   -3.50112672,   -2.22591535,\n",
      "         -2.15286346,   -1.15657317,   -0.62653659,   -0.59466361,\n",
      "         -0.49173405,   -0.40061099]), 'type': 'Ia'}}\n",
      "['g', 'r']\n",
      "Does not contain all bands\n",
      "[]\n",
      "Does not contain all bands\n",
      "['g', 'r', 'i']\n",
      "{'SN2005el': {'coeffs': array([ 169.39548978,  -11.79044162,   -3.80905478,   -1.98315614,\n",
      "         -1.96940626,   -1.02722576,   -0.85057462,   -0.73597442,\n",
      "         -0.70742168,   -0.46443375,  162.25505073,   -9.24618659,\n",
      "         -4.21741415,   -1.68445406,   -1.57675959,   -1.55665855,\n",
      "         -0.77349662,   -0.65735869,   -0.62997854,   -0.50885044,\n",
      "        165.17156984,   -8.84111205,   -3.50112672,   -2.22591535,\n",
      "         -2.15286346,   -1.15657317,   -0.62653659,   -0.59466361,\n",
      "         -0.49173405,   -0.40061099]), 'type': 'Ia'}, 'SDSS-II SN 13184': {'coeffs': array([  2.12921593e+02,   5.11070427e-01,  -1.95785578e-01,\n",
      "         1.72586044e-01,   1.57506099e-01,  -1.41925853e-01,\n",
      "        -9.52140808e-02,   8.88691704e-02,   6.91471721e-02,\n",
      "        -8.50176820e-02,   2.12115389e+02,   9.15061506e-01,\n",
      "         4.33607392e-01,   2.22595211e-01,  -1.45886480e-01,\n",
      "        -1.28895447e-01,   1.39046926e-01,  -9.69777208e-02,\n",
      "         5.73118322e-02,  -7.76049930e-02,   1.93181514e+02,\n",
      "         9.88965860e-01,  -6.44228185e-01,   4.32366384e-01,\n",
      "        -2.16765995e-01,  -1.85923730e-01,   1.77851944e-01,\n",
      "         1.75225080e-01,  -1.47296517e-01,  -8.90014929e-02]), 'type': 'II'}}\n"
     ]
    }
   ],
   "source": [
    "for lightcurve in filenames:\n",
    "        lightcurve_path = lightcurve_directory + lightcurve\n",
    "\n",
    "        if not os.path.isfile(lightcurve_path):\n",
    "            print(\"Cant find {}\".format(lightcurve_path))\n",
    "            continue\n",
    "\n",
    "        with open(lightcurve_path, 'r') as f:\n",
    "            file_data = json.load(f)\n",
    "\n",
    "        #This hack removes the '_gpsmoothed.json' from the string to return the objname\n",
    "        objname = lightcurve[:-16]\n",
    "        #print(objname)\n",
    "\n",
    "        #print(list(file_data.keys()))\n",
    "\n",
    "        deleted_filters = 0\n",
    "        ## For now, take only filter 'g'\n",
    "        lightcurve_mapped = bandMap.remapBands(file_data)\n",
    "        print(list(lightcurve_mapped.keys()))\n",
    "        \n",
    "        req_filters = set(['g','r','i'])\n",
    "\n",
    "        if req_filters.issubset(set(lightcurve_mapped.keys())):\n",
    "            for filt in list(lightcurve_mapped.keys()):\n",
    "                if filt not in ['g', 'r', 'i']:\n",
    "                    deleted_filters += 1\n",
    "                    #print(\"Deleted {}\".format(filt))\n",
    "                    del lightcurve_mapped[filt]\n",
    "        else:\n",
    "            #print(\"Does not contain all bands\")\n",
    "            continue\n",
    "        #print(\"{} filters deleted\".format(deleted_filters))\n",
    "\n",
    "        if len(lightcurve_mapped) == 0:\n",
    "            print(\"No values in the file\")\n",
    "            continue\n",
    "\n",
    "        wavelet_coeffs[objname] = {}\n",
    "        all_coeffs = np.zeros((num_coeffs,))\n",
    "\n",
    "        for i, filt in enumerate(lightcurve_mapped):\n",
    "            #mjd = lightcurve_mapped[filt]['mjd']\n",
    "            #mag = lightcurve_mapped[filt]['mag']\n",
    "            #mag_err = lightcurve_mapped[filt]['dmag']\n",
    "            model_phase = lightcurve_mapped[filt]['modeldate']\n",
    "            model_mag = lightcurve_mapped[filt]['modelmag']\n",
    "            #bspline_mag = file_data[filt]['bsplinemag']\n",
    "            #goodstatus = lightcurve_mapped[filt]['goodstatus']\n",
    "            object_type = lightcurve_mapped[filt]['type']\n",
    "\n",
    "            raw_coeffs = featureExtraction.general_wavelet_coeffs(wavelet_type, model_phase,\\\n",
    "                                                                model_mag, num_coeffs=num_band_coeffs)\n",
    "            #Unravel the different filters by appending the information\n",
    "            #print(\"Left: \", i*num_band_coeffs)\n",
    "            #print(\"Right: \", (i+1)*num_band_coeffs)\n",
    "            #print(raw_coeffs.reshape(num_band_coeffs))\n",
    "            all_coeffs[i*num_band_coeffs:(i+1)*num_band_coeffs] = raw_coeffs.reshape(num_band_coeffs)\n",
    "            \n",
    "        #print(all_coeffs)\n",
    "        wavelet_coeffs[objname]['coeffs'] = all_coeffs\n",
    "        #print(raw_coeffs)\n",
    "        wavelet_coeffs[objname]['type'] = object_type\n",
    "        #print(i)\n",
    "        #if i > 8:\n",
    "        #    break\n",
    "    #Write all lightcurve parameters to a file (json format)\n",
    "        print(wavelet_coeffs)\n",
    "    \n"
   ]
  },
  {
   "cell_type": "code",
   "execution_count": null,
   "metadata": {
    "collapsed": true
   },
   "outputs": [],
   "source": []
  },
  {
   "cell_type": "code",
   "execution_count": null,
   "metadata": {
    "collapsed": true
   },
   "outputs": [],
   "source": []
  }
 ],
 "metadata": {
  "kernelspec": {
   "display_name": "Python 3",
   "language": "python",
   "name": "python3"
  },
  "language_info": {
   "codemirror_mode": {
    "name": "ipython",
    "version": 3
   },
   "file_extension": ".py",
   "mimetype": "text/x-python",
   "name": "python",
   "nbconvert_exporter": "python",
   "pygments_lexer": "ipython3",
   "version": "3.6.0"
  }
 },
 "nbformat": 4,
 "nbformat_minor": 2
}
