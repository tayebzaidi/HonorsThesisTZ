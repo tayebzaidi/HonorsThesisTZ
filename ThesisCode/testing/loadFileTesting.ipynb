{
 "cells": [
  {
   "cell_type": "code",
   "execution_count": 1,
   "metadata": {
    "collapsed": false
   },
   "outputs": [
    {
     "name": "stdout",
     "output_type": "stream",
     "text": [
      "dict_keys(['B_', 'B__CSP', 'B_kait3', 'H_PAIRITEL', 'H__CSP', 'I_kait3', 'J_PAIRITEL', 'J__CSP', 'Ks_PAIRITEL', 'R_kait3', 'U_', 'V_', 'V__CSP', 'V_kait3', 'Y__CSP', 'g__CSP', 'i__CSP', 'r__CSP', 'u__CSP'])\n"
     ]
    }
   ],
   "source": [
    "#Load a specific lightcurve file for testing purposes\n",
    "import json\n",
    "import sys\n",
    "sys.path.append('../classification')\n",
    "import os\n",
    "filename = '../gen_lightcurves/gp_smoothed/SN2005el_gpsmoothed.json'\n",
    "with open(filename, 'r') as f:\n",
    "     file_data = json.load(f)\n",
    "print(file_data.keys())"
   ]
  },
  {
   "cell_type": "code",
   "execution_count": 2,
   "metadata": {
    "collapsed": false
   },
   "outputs": [
    {
     "name": "stdout",
     "output_type": "stream",
     "text": [
      "Passband B_ changed to g\n",
      "Passband B__CSP changed to g\n",
      "Passband B_kait3 changed to g\n",
      "Passband I_kait3 changed to i\n",
      "Passband R_kait3 changed to r\n",
      "Passband U_ changed to u\n",
      "Passband V_ changed to g\n",
      "Passband V__CSP changed to g\n",
      "Passband V_kait3 changed to g\n",
      "Passband Y__CSP changed to Y\n",
      "Passband g__CSP changed to g\n",
      "Passband i__CSP changed to i\n",
      "Passband r__CSP changed to r\n",
      "Passband u__CSP changed to u\n",
      "dict_keys(['g', 'i', 'r', 'u', 'Y'])\n"
     ]
    }
   ],
   "source": [
    "import bandMap\n",
    "lcurve_mapped = bandMap.remapBands(file_data)\n",
    "print(lcurve_mapped.keys())"
   ]
  },
  {
   "cell_type": "code",
   "execution_count": null,
   "metadata": {
    "collapsed": true
   },
   "outputs": [],
   "source": []
  },
  {
   "cell_type": "code",
   "execution_count": null,
   "metadata": {
    "collapsed": true
   },
   "outputs": [],
   "source": []
  }
 ],
 "metadata": {
  "kernelspec": {
   "display_name": "Python 3",
   "language": "python",
   "name": "python3"
  },
  "language_info": {
   "codemirror_mode": {
    "name": "ipython",
    "version": 3
   },
   "file_extension": ".py",
   "mimetype": "text/x-python",
   "name": "python",
   "nbconvert_exporter": "python",
   "pygments_lexer": "ipython3",
   "version": "3.6.0"
  }
 },
 "nbformat": 4,
 "nbformat_minor": 2
}
