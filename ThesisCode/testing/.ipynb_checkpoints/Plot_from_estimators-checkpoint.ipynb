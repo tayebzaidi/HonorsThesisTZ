{
 "cells": [
  {
   "cell_type": "code",
   "execution_count": 16,
   "metadata": {
    "collapsed": true
   },
   "outputs": [],
   "source": [
    "import pickle\n",
    "import numpy as np\n",
    "import os, sys\n",
    "import matplotlib.pyplot as plt\n",
    "sys.path.append('../classification')\n",
    "from sklearn.metrics import accuracy_score, roc_curve, roc_auc_score, f1_score\n",
    "from numpy import mean\n",
    "import math"
   ]
  },
  {
   "cell_type": "code",
   "execution_count": 2,
   "metadata": {},
   "outputs": [
    {
     "name": "stdout",
     "output_type": "stream",
     "text": [
      "['bagidis_1_estimators.p', 'sym2_1_estimators.p', 'db2_1_estimators.p']\n"
     ]
    }
   ],
   "source": [
    "all_files = os.listdir('../classification')\n",
    "estimator_files = [file for file in all_files if file.endswith('estimators.p')]\n",
    "\n",
    "#print(all_files)\n",
    "print(estimator_files)\n",
    "base_path = '../classification/'\n",
    "\n",
    "#with open(base_path + estimator_files[0], 'rb') as f:\n",
    "#    estimators = pickle.load(f)"
   ]
  },
  {
   "cell_type": "code",
   "execution_count": null,
   "metadata": {
    "collapsed": true
   },
   "outputs": [],
   "source": []
  },
  {
   "cell_type": "code",
   "execution_count": 10,
   "metadata": {
    "collapsed": true
   },
   "outputs": [],
   "source": [
    "#y_probas = bagidis_estimator1.best_estimator_.steps[1][1].oob_decision_function_\n",
    "#y_pred = np.around(y_probas[:,1])\n",
    "\n",
    "#fpr, tpr, thresholds = roc_curve(y, y_probas[:,1])\n",
    "#accuracy = accuracy_score(y, y_pred)\n",
    "#f1 = f1_score(y, y_pred)\n",
    "#auc_val = roc_auc_score(y, y_probas[:,1])\n",
    "\n",
    "#print(accuracy)\n",
    "#print(f1)\n",
    "#print(auc_val)"
   ]
  },
  {
   "cell_type": "code",
   "execution_count": 20,
   "metadata": {},
   "outputs": [
    {
     "name": "stdout",
     "output_type": "stream",
     "text": [
      "bagidis_1_estimators.p\n",
      "Max AUC:  0.82093317366 -- Accuracy:  0.750163398693 -- F-Score:  0.768932604694 -- AUC:  0.819104095288\n",
      "Num Components 67.2 7.95989949685 [64, 82, 58, 66, 66]\n"
     ]
    },
    {
     "ename": "NameError",
     "evalue": "name 'rang' is not defined",
     "output_type": "error",
     "traceback": [
      "\u001b[0;31m---------------------------------------------------------------------------\u001b[0m",
      "\u001b[0;31mNameError\u001b[0m                                 Traceback (most recent call last)",
      "\u001b[0;32m<ipython-input-20-2eb8dd5c958c>\u001b[0m in \u001b[0;36m<module>\u001b[0;34m()\u001b[0m\n\u001b[1;32m     51\u001b[0m     \u001b[0max1\u001b[0m\u001b[0;34m.\u001b[0m\u001b[0mplot\u001b[0m\u001b[0;34m(\u001b[0m\u001b[0mfpr\u001b[0m\u001b[0;34m,\u001b[0m \u001b[0mtpr\u001b[0m\u001b[0;34m,\u001b[0m \u001b[0mlabel\u001b[0m\u001b[0;34m=\u001b[0m\u001b[0mlabel\u001b[0m\u001b[0;34m)\u001b[0m\u001b[0;34m\u001b[0m\u001b[0m\n\u001b[1;32m     52\u001b[0m     \u001b[0mfilt_order\u001b[0m \u001b[0;34m=\u001b[0m \u001b[0;34m[\u001b[0m\u001b[0;34m'g'\u001b[0m\u001b[0;34m,\u001b[0m \u001b[0;34m'i'\u001b[0m\u001b[0;34m,\u001b[0m\u001b[0;34m'r'\u001b[0m\u001b[0;34m,\u001b[0m\u001b[0;34m'z'\u001b[0m\u001b[0;34m]\u001b[0m\u001b[0;34m\u001b[0m\u001b[0m\n\u001b[0;32m---> 53\u001b[0;31m     \u001b[0;32mfor\u001b[0m \u001b[0mi\u001b[0m \u001b[0;32min\u001b[0m \u001b[0mrang\u001b[0m\u001b[0;34m(\u001b[0m\u001b[0mnum_comp_feature_importances\u001b[0m\u001b[0;34m)\u001b[0m\u001b[0;34m:\u001b[0m\u001b[0;34m\u001b[0m\u001b[0m\n\u001b[0m\u001b[1;32m     54\u001b[0m         \u001b[0mfilt\u001b[0m \u001b[0;34m=\u001b[0m \u001b[0mfilt_order\u001b[0m\u001b[0;34m[\u001b[0m\u001b[0mi\u001b[0m\u001b[0;34m%\u001b[0m\u001b[0mlen\u001b[0m\u001b[0;34m(\u001b[0m\u001b[0mfilt_order\u001b[0m\u001b[0;34m)\u001b[0m\u001b[0;34m]\u001b[0m\u001b[0;34m\u001b[0m\u001b[0m\n\u001b[1;32m     55\u001b[0m         \u001b[0mcoeff_idx\u001b[0m \u001b[0;34m=\u001b[0m \u001b[0mstr\u001b[0m\u001b[0;34m(\u001b[0m\u001b[0mmath\u001b[0m\u001b[0;34m.\u001b[0m\u001b[0mceiling\u001b[0m\u001b[0;34m(\u001b[0m\u001b[0mi\u001b[0m\u001b[0;34m/\u001b[0m\u001b[0mlen\u001b[0m\u001b[0;34m(\u001b[0m\u001b[0mfilt_order\u001b[0m\u001b[0;34m)\u001b[0m\u001b[0;34m)\u001b[0m\u001b[0;34m)\u001b[0m\u001b[0;34m\u001b[0m\u001b[0m\n",
      "\u001b[0;31mNameError\u001b[0m: name 'rang' is not defined"
     ]
    }
   ],
   "source": [
    "fig1 = plt.figure(figsize=(9,6))\n",
    "ax1 = fig1.add_subplot(111)\n",
    "\n",
    "for dump_file in estimator_files:\n",
    "    fig2 = plt.figure(figsize=(12,6))\n",
    "    ax2 = fig2.add_subplot(111)\n",
    "    print(dump_file)\n",
    "    with open(base_path+dump_file, 'rb') as f:\n",
    "        dump_data = pickle.load(f)\n",
    "    estimators = dump_data[0]\n",
    "    y = dump_data[1][1]\n",
    "    feature_importances = np.zeros((len(estimators), len(estimators[0].best_estimator_.steps[1][1].feature_importances_)))\n",
    "\n",
    "    accuracies = []\n",
    "    f1_scores = []\n",
    "    auc_vals = []\n",
    "    max_auc_val = 0\n",
    "    num_thresholds = len(roc_curve(y, estimators[0].best_estimator_.steps[1][1].oob_decision_function_[:,1])[0])\n",
    "    num_estimators = len(estimators)\n",
    "    num_components = []\n",
    "\n",
    "    for i, estimator in enumerate(estimators):\n",
    "        num_components.append(len(estimator.best_estimator_.steps[1][1].feature_importances_))\n",
    "        #print(\"Number of Components: \", len(estimator.best_estimator_.steps[1][1].feature_importances_))\n",
    "        #feature_importances[i,:] = estimator.best_estimator_.steps[1][1].feature_importances_\n",
    "        #print(estimator.best_estimator_.steps)\n",
    "        y_probas = estimator.best_estimator_.steps[1][1].oob_decision_function_\n",
    "        y_pred = np.around(y_probas[:,1])\n",
    "\n",
    "        accuracies.append(accuracy_score(y, y_pred))\n",
    "        f1_scores.append(f1_score(y, y_pred))\n",
    "        auc_vals.append(roc_auc_score(y, y_probas[:,1]))\n",
    "\n",
    "\n",
    "        if auc_vals[-1] > max_auc_val:\n",
    "            num_comp_feature_importances = len(estimator.best_estimator_.steps[1][1].feature_importances_)\n",
    "            feature_importances = estimator.best_estimator_.steps[1][1].feature_importances_\n",
    "            max_auc_val = auc_vals[-1]\n",
    "            fpr, tpr, thresholds = roc_curve(y, y_probas[:,1])\n",
    "\n",
    "    avg_accuracy = mean(accuracies)\n",
    "    avg_f1 = mean(f1_scores)\n",
    "    avg_auc_val = mean(auc_vals)\n",
    "\n",
    "    print(\"Max AUC: \", max_auc_val, \"-- Accuracy: \", avg_accuracy, \"-- F-Score: \", avg_f1, \"-- AUC: \", avg_auc_val)\n",
    "    print(\"Num Components\", mean(num_components), np.std(num_components), num_components)\n",
    "    #print(\"Accuracy: \", avg_accuracy)\n",
    "    #print(\"F-Score: \", avg_f1)\n",
    "    #print(\"AUC: \", avg_auc_val)\n",
    "    label = dump_file\n",
    "    ax1.plot(fpr, tpr, label=label)\n",
    "    filt_order = ['g', 'i','r','z']\n",
    "    for i in range(num_comp_feature_importances):\n",
    "        filt = filt_order[i%len(filt_order)]\n",
    "        coeff_idx = str(math.ceil(i/len(filt_order)))\n",
    "        components.append(filt+'['+coeff_idx+']')\n",
    "    #components = [filt_order[i%len(filt_order)]+'['+str(math.ceil(i))+']' for i in range(num_comp_feature_importances)]\n",
    "    #print(components)\n",
    "    ax2.bar(range(len(components)), feature_importances, label=dump_file)\n",
    "    if dump_file.startswith('bagidis'):\n",
    "        ax2.set_xticklabels(components)\n",
    "    ax2.set_xlabel('Feature')\n",
    "    ax2.set_ylabel('Relative Importance')\n",
    "    ax2.legend()\n",
    "    fig2_name = dump_file\n",
    "    #plt.show()\n",
    "    #fig2.savefig(dump_file + '.pdf')\n",
    "ax1.legend() \n",
    "plt.show()\n",
    "    "
   ]
  },
  {
   "cell_type": "code",
   "execution_count": null,
   "metadata": {
    "collapsed": true
   },
   "outputs": [],
   "source": []
  }
 ],
 "metadata": {
  "kernelspec": {
   "display_name": "Python 3",
   "language": "python",
   "name": "python3"
  },
  "language_info": {
   "codemirror_mode": {
    "name": "ipython",
    "version": 3
   },
   "file_extension": ".py",
   "mimetype": "text/x-python",
   "name": "python",
   "nbconvert_exporter": "python",
   "pygments_lexer": "ipython3",
   "version": "3.6.0"
  }
 },
 "nbformat": 4,
 "nbformat_minor": 2
}
