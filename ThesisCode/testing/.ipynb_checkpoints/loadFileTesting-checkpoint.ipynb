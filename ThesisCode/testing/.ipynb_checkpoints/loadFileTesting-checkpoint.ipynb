{
 "cells": [
  {
   "cell_type": "code",
   "execution_count": 1,
   "metadata": {
    "collapsed": false
   },
   "outputs": [
    {
     "name": "stdout",
     "output_type": "stream",
     "text": [
      "dict_keys(['B_', 'B__CSP', 'B_kait3', 'H_PAIRITEL', 'H__CSP', 'I_kait3', 'J_PAIRITEL', 'J__CSP', 'Ks_PAIRITEL', 'R_kait3', 'U_', 'V_', 'V__CSP', 'V_kait3', 'Y__CSP', 'g__CSP', 'i__CSP', 'r__CSP', 'u__CSP'])\n"
     ]
    }
   ],
   "source": [
    "#Load a specific lightcurve file for testing purposes\n",
    "import json\n",
    "import sys\n",
    "import numpy as np\n",
    "import emcee\n",
    "import george\n",
    "import matplotlib.pyplot as plt\n",
    "sys.path.append('../classification')\n",
    "import os\n",
    "filename = '../gen_lightcurves/gp_smoothed/SN2005el_gpsmoothed.json'\n",
    "with open(filename, 'r') as f:\n",
    "     file_data = json.load(f)\n",
    "print(file_data.keys())"
   ]
  },
  {
   "cell_type": "code",
   "execution_count": null,
   "metadata": {
    "collapsed": false
   },
   "outputs": [],
   "source": [
    "import bandMap\n",
    "lcurve_mapped = bandMap.remapBands(file_data)\n",
    "print(lcurve_mapped.keys())"
   ]
  },
  {
   "cell_type": "code",
   "execution_count": null,
   "metadata": {
    "collapsed": false
   },
   "outputs": [],
   "source": [
    "for filt in file_data:\n",
    "    mjd = np.array(file_data[filt]['mjd'])\n",
    "    mag = np.array(file_data[filt]['mag'])\n",
    "    magerr = np.array(file_data[filt]['dmag'])\n",
    "    modelmjd = file_data[filt]['modeldate']\n",
    "    modelmag = file_data[filt]['modelmag']\n",
    "    \n",
    "    plt.errorbar(mjd,mag,yerr=magerr)\n",
    "    plt.plot(modelmjd, modelmag)\n",
    "    plt.title(filt)\n",
    "    plt.show()"
   ]
  },
  {
   "cell_type": "code",
   "execution_count": 2,
   "metadata": {
    "collapsed": false
   },
   "outputs": [
    {
     "name": "stdout",
     "output_type": "stream",
     "text": [
      "dict_keys(['bsplinemag', 'dmag', 'goodstatus', 'kernel', 'mag', 'mjd', 'modeldate', 'modelerr', 'modelmag', 'modelmag_sub', 'type'])\n"
     ]
    },
    {
     "data": {
      "image/png": "[encoded data removed]",
      "text/plain": [
       "<matplotlib.figure.Figure at 0x7fbfc108d240>"
      ]
     },
     "metadata": {},
     "output_type": "display_data"
    }
   ],
   "source": [
    "print(file_data['B_'].keys())\n",
    "filter_name = 'I_kait3'\n",
    "t = np.array(file_data[filter_name]['mjd'])\n",
    "y = np.array(file_data[filter_name]['mag'])\n",
    "err = np.array(file_data[filter_name]['dmag'])\n",
    "plt.plot(t,y, 'ko')\n",
    "plt.show()"
   ]
  },
  {
   "cell_type": "code",
   "execution_count": 11,
   "metadata": {
    "collapsed": false
   },
   "outputs": [],
   "source": [
    "from george import kernels\n",
    "kernel = kernels.ConstantKernel(1*10**-3) * kernels.ExpSquaredKernel(100.) * kernels.DotProductKernel()\n",
    "#kernel = kernels.ExpSquaredKernel(100.) * kernels.DotProductKernel()"
   ]
  },
  {
   "cell_type": "code",
   "execution_count": 12,
   "metadata": {
    "collapsed": false
   },
   "outputs": [
    {
     "name": "stdout",
     "output_type": "stream",
     "text": [
      "-159.010392971\n",
      "-76.1852862535\n"
     ]
    }
   ],
   "source": [
    "import scipy.optimize as op\n",
    "\n",
    "gp = george.GP(kernel, mean=np.mean(y))\n",
    "\n",
    "# Define the objective function (negative log-likelihood in this case).\n",
    "def nll(p):\n",
    "    # Update the kernel parameters and compute the likelihood.\n",
    "    gp.kernel[:] = p\n",
    "    ll = gp.lnlikelihood(y, quiet=True)\n",
    "\n",
    "    # The scipy optimizer doesn't play well with infinities.\n",
    "    return -ll if np.isfinite(ll) else 1e25\n",
    "\n",
    "# And the gradient of the objective function.\n",
    "def grad_nll(p):\n",
    "    # Update the kernel parameters and compute the likelihood.\n",
    "    gp.kernel[:] = p\n",
    "    return -gp.grad_lnlikelihood(y, quiet=True)\n",
    "\n",
    "# You need to compute the GP once before starting the optimization.\n",
    "gp.compute(t, err)\n",
    "\n",
    "# Print the initial ln-likelihood.\n",
    "print(gp.lnlikelihood(y))\n",
    "\n",
    "# Run the optimization routine.\n",
    "p0 = gp.kernel.vector\n",
    "results = op.minimize(nll, p0, jac=grad_nll)\n",
    "\n",
    "# Update the kernel and print the final log-likelihood.\n",
    "gp.kernel[:] = results.x\n",
    "print(gp.lnlikelihood(y))"
   ]
  },
  {
   "cell_type": "code",
   "execution_count": 13,
   "metadata": {
    "collapsed": false
   },
   "outputs": [
    {
     "data": {
      "image/png": "[encoded data removed]",
      "text/plain": [
       "<matplotlib.figure.Figure at 0x7fbfc0c026d8>"
      ]
     },
     "metadata": {},
     "output_type": "display_data"
    }
   ],
   "source": [
    "x = np.linspace(min(t), max(t), 100)\n",
    "mu, cov = gp.predict(y,x)\n",
    "std = np.sqrt(np.diag(cov))\n",
    "plt.plot(x,mu)\n",
    "plt.errorbar(t,y,yerr=err)\n",
    "plt.show()"
   ]
  },
  {
   "cell_type": "code",
   "execution_count": 6,
   "metadata": {
    "collapsed": false
   },
   "outputs": [
    {
     "data": {
      "text/plain": [
       "array([  1.00000000e-03,   1.00000000e+02])"
      ]
     },
     "execution_count": 6,
     "metadata": {},
     "output_type": "execute_result"
    }
   ],
   "source": [
    "kernel.pars"
   ]
  },
  {
   "cell_type": "code",
   "execution_count": 7,
   "metadata": {
    "collapsed": false
   },
   "outputs": [
    {
     "name": "stdout",
     "output_type": "stream",
     "text": [
      "-91.0271154876\n",
      "[ -9.41100448  45.55883867]\n",
      "Running burn-in\n",
      "Running production chain\n"
     ]
    },
    {
     "data": {
      "text/plain": [
       "(array([[-9.85354098,  5.85154889],\n",
       "        [-9.68128942,  5.81284183],\n",
       "        [-9.94465188,  5.67354078],\n",
       "        [-9.86822772,  5.87683923],\n",
       "        [-9.88359671,  5.95511675],\n",
       "        [-9.99874192,  5.71609669],\n",
       "        [-9.95765161,  5.87066769],\n",
       "        [-9.62664767,  5.96913593],\n",
       "        [-9.90069598,  5.95875506],\n",
       "        [-9.95989114,  5.57405727],\n",
       "        [-9.95202784,  5.85492569],\n",
       "        [-9.71421877,  5.75505987],\n",
       "        [-9.97271626,  5.9008392 ],\n",
       "        [-9.78184753,  5.92124371],\n",
       "        [-9.25298183,  6.09209703],\n",
       "        [-9.89405351,  6.03361663],\n",
       "        [-9.87915766,  5.96556995],\n",
       "        [-9.99744347,  5.71632428],\n",
       "        [-9.91225281,  5.96458277],\n",
       "        [-9.92162343,  5.90276465],\n",
       "        [-9.85977183,  5.76984065],\n",
       "        [-9.2381504 ,  5.90752193],\n",
       "        [-9.82680942,  5.88855358],\n",
       "        [-9.63890607,  5.59971144],\n",
       "        [-9.68975533,  5.93891808],\n",
       "        [-9.99876437,  5.78716909],\n",
       "        [-9.85281704,  5.90428807],\n",
       "        [-9.84070529,  5.69102542],\n",
       "        [-9.73720292,  5.55036946],\n",
       "        [-9.98844071,  5.76972759],\n",
       "        [-9.840558  ,  5.83154688],\n",
       "        [-9.72780855,  5.74233812],\n",
       "        [-9.9120763 ,  6.09215482],\n",
       "        [-9.74852173,  5.67452675],\n",
       "        [-9.59379378,  5.85074837],\n",
       "        [-9.69038775,  5.90469119]]),\n",
       " array([-39.39731764, -40.28041181, -40.08134042, -39.3292441 ,\n",
       "        -39.59772337, -39.38609303, -38.97212846, -40.51400019,\n",
       "        -39.57649112, -41.33224416, -38.98839684, -40.49820364,\n",
       "        -38.98463656, -39.74575421, -42.91439153, -40.59507911,\n",
       "        -39.70199305, -39.39075761, -39.59588384, -39.17630686,\n",
       "        -39.67931234, -41.90741492, -39.50236857, -42.82473465,\n",
       "        -40.14168005, -38.93931268, -39.43371935, -40.44688545,\n",
       "        -43.05225771, -39.06988013, -39.49223977, -40.53601098,\n",
       "        -41.83542742, -41.13512658, -40.51931849, -40.0516312 ]),\n",
       " ('MT19937', array([1046097296, 2648881685, 1233255482, 3264740253, 1913203028,\n",
       "         2596676463, 2286397863,  310909077, 1537929949, 1356794061,\n",
       "          437583856, 2752422509, 1897149676,   72028463, 2059935134,\n",
       "         1080185334, 2789140688, 2220186527, 2841877375, 1014418599,\n",
       "         3655696615, 2797054365, 3975629184, 1558655195, 3285859947,\n",
       "         4223106420, 1290864562, 4217364073,  151492094, 2171049631,\n",
       "         1896562182, 3579452787, 1102722289,   81392530, 3171727746,\n",
       "         3581104289, 2854481076,  539362043, 1409524868, 3807931139,\n",
       "         2470652721, 2554031803, 1938890518, 3241401642, 1746217406,\n",
       "         3654872962, 4261379267, 2963362250, 3999465736,  945116028,\n",
       "         2376283716, 1187453562, 3155976788,  730843374, 1361442044,\n",
       "          464962950, 3780241470, 3158097649, 3293630761, 3556898841,\n",
       "         3962235078, 3920264626,  740026288, 3562858237, 3975427521,\n",
       "         2651061783, 2116455659, 2106007003, 3353172417,  694049559,\n",
       "         2677471872, 3633587586, 3292622421, 2165646271, 2527314462,\n",
       "         3707649180, 1086550758, 3919136151,  887629642,  776252688,\n",
       "         1703437324, 1293276800, 2421035620, 1808114921, 2962210779,\n",
       "          396833365, 2692874044, 3665124184, 1323490100, 2126697859,\n",
       "         3357370577, 2888757300, 2830820617, 3738848617, 1956729753,\n",
       "         2112333857, 3455710230, 1306613208,  570334966, 2068111282,\n",
       "           91936260,  731735682,  953928587, 2459314239, 4052618752,\n",
       "          233306106, 3662028466, 2023527789, 2389284351,   38308699,\n",
       "         3020589523,  523614388, 2054455155, 1249741315, 1415142284,\n",
       "          783276859, 2084868811,  516047716, 3656533840, 1655319309,\n",
       "          627373902, 3021309919, 2024326590, 4077953382,  999663508,\n",
       "         2040333918, 3693786754, 3559712727, 3667807986, 3207834296,\n",
       "          607690846,  701123691,  183543890,  623219767,  473653949,\n",
       "           36015729, 2322601498, 1073229363, 1907200730, 4230216187,\n",
       "         1987747316, 2356035236, 2389329802, 1626659860,  250993580,\n",
       "         2463387353, 2462543744, 3659614859, 4226434025, 1185152730,\n",
       "         2211419166,  925917206, 2050751187, 3674762372, 1518948292,\n",
       "          318044299, 2831229985, 2287960170, 1050222422, 1592743007,\n",
       "          412708966, 1598213707, 1457209533,  129807265,  898404551,\n",
       "         2507193043, 2541216730, 3977333481,  549687916, 4190265694,\n",
       "         2446993860,  472058198, 4261521776, 3999959919, 1437744260,\n",
       "         3157662673,  863773807, 3476211996, 2387366511, 2241953636,\n",
       "         2990628638, 1760651582,  446265766, 1375457148,  149952335,\n",
       "         1606551934,  768163822, 4251069235, 4074489244, 3745538390,\n",
       "         1962181778, 2957420538, 1832074687, 1787854097, 1837123463,\n",
       "         2973254627, 3641349655, 4221686555,  591067809, 4185681931,\n",
       "          594747948, 3262582553,  413487646, 1943219359, 4110061384,\n",
       "         2998515124, 1110730161,  715185694,  779109334, 2618536230,\n",
       "          238435782, 3054691208, 4021561696, 2500148026, 2034200488,\n",
       "         1134199390,  538596186, 2547993023,   63908374, 4167281310,\n",
       "         2819340214,   16282229, 3709797977, 2630654952, 3695487049,\n",
       "         1611389299,  611334735, 1598496365, 3256240117,  489471236,\n",
       "         1432760204, 3335012207, 1440247910, 1581656418,  165472530,\n",
       "         2911971687, 1638434673, 3230827009, 3543111350, 2247705330,\n",
       "         1833025778, 1382694985, 2460448383,  491389498, 2588876029,\n",
       "          365255171, 4137690881,  935869953, 1886250805, 2659231915,\n",
       "         2324158958, 4107483919, 1249410166,  135879263,  100528232,\n",
       "         2666105314, 1821545535, 2309848254, 3365331604, 1974490397,\n",
       "         3655893032,  342050877, 1885047831,  528114548, 3266079719,\n",
       "         1411875297,  404480340, 3617793673, 2441474688,  710425427,\n",
       "         3285118247, 4239566905, 4016523291, 2905263461, 2514218511,\n",
       "         2831203225, 2089040420,  537881159, 1654324632, 2942187194,\n",
       "          736871581, 3290826499, 3827182863, 4183048147,  562158307,\n",
       "         2379080845, 1137162757, 3881446188, 1751170003, 2765499177,\n",
       "         1978424596, 4234536295,  585629012, 2873088534, 2718599423,\n",
       "         1956048671,  765175744, 1421904541,  759090627,  868821590,\n",
       "         2817311188,  986582187, 1505094876, 2616718049, 3532490763,\n",
       "          287851533, 2148797188,  125668768, 1936883537,  303458563,\n",
       "          383821088, 2802752377, 3398912265, 4239382754, 4107228461,\n",
       "         2130948476, 2746817372, 1566487848, 3596861718, 3080458825,\n",
       "         3402526413, 1123093596, 3004889795,  362435289, 1192696924,\n",
       "         2259600409,   64339244,  361000807, 1925276286, 3490614985,\n",
       "          740150462, 1830614750, 2836789929, 2365758879, 3574314397,\n",
       "         3386055357, 4212473260, 2703414901,  846375880, 1799582455,\n",
       "         2862982333, 1323965391, 3020494623, 3586799673,  536820327,\n",
       "         1790288142, 2721171931, 3083505617,  122508174, 3254383169,\n",
       "         1368469008, 3881096209, 4274514912,  217829909, 4180989800,\n",
       "          536628096,  862065238, 1176585353, 2431298445, 1017468744,\n",
       "          945846019, 2659326170, 1220694890,  657643237, 3215259456,\n",
       "          532729999, 2292042399,  364061632, 1006777135, 3554148313,\n",
       "         2016766404, 2171733701, 3582782679, 2475101265,  191435917,\n",
       "         4012447224,  224833171, 4140042556, 2923609843, 2298130359,\n",
       "         1435151234, 2187509886, 3479330983, 3547475846, 2421342298,\n",
       "         1888682106, 2548840072, 4194590925, 2318161722, 3309251608,\n",
       "         3660401757, 1460346669, 3195370790, 4026904172, 3067890921,\n",
       "         3858362192, 3089271327, 3162049636, 4119986556, 1531950767,\n",
       "         3169189185, 4091467946, 1835690472,  438308475, 1332353613,\n",
       "         2810865803,  108528302, 2794011628,  165477012, 4159671419,\n",
       "          312768103,  665879456,  557288463,  787519214,  796890443,\n",
       "         4156564226, 4035350792, 2903265845, 4236407674,  986650467,\n",
       "           16328182, 3005296620, 2595336200, 1273815480,  497595370,\n",
       "         2816681890, 3349004891, 1749721188,  187856339, 3711846399,\n",
       "          151241239, 3944143846, 1608803709, 2306050287, 3468552041,\n",
       "         2592388550, 3130722053,  336807262, 2764661312, 3554666510,\n",
       "          370077960, 3340910110, 2305337451, 1659404597, 3030487124,\n",
       "          476556645,  158044683, 4216998647, 3127920093, 1719767143,\n",
       "          138702977, 2556800631, 2730795618, 1048519012,  402174927,\n",
       "         1068276451, 3005819505, 3320638464, 1156721523, 3567475181,\n",
       "         2930594270,  450283476, 3480241656, 1503773128, 2085395249,\n",
       "         3502653117, 1315429254, 3110814615, 4101668088,   31974587,\n",
       "         3014245347,  572847665,  525973889, 2639360939, 1993802977,\n",
       "         4067157484, 1664079318,  884227186, 1026562264, 2747534219,\n",
       "         1513913480, 1040068124,  631456287,  199551533, 2711199931,\n",
       "         3717195973, 1970196465, 2050908199, 2203318041,  996362102,\n",
       "          450432128, 3229432280, 3889597818,  325131663, 1870472916,\n",
       "         1977394448, 2620412085, 2585184385, 1714431877, 2978283590,\n",
       "         1406099199, 1670761954, 1293625379,  212647755, 3259582863,\n",
       "         4273181408, 1465178421, 3397402007, 1449194566, 3709918046,\n",
       "         1607793205, 2554805932, 1129090100,  126993944, 1226329885,\n",
       "         2275863811, 4258761521, 1499010402,  109146897, 2334551562,\n",
       "          346244996, 2378709696, 3140106935, 4157881780, 3700679192,\n",
       "         1997806425,   56236169,  923025383, 4120318880, 1612718619,\n",
       "         3056201217, 1796019171, 1095181692, 3780951999, 3034459741,\n",
       "         1587421976, 3016195884, 2352871429, 3946176827,   70386237,\n",
       "         2394961327,  577820680, 2256761086,  349933455, 1137188868,\n",
       "         1326280836, 3085669327,  441011629, 1459177862, 1854881946,\n",
       "         1779855348,   78886160,   41640942, 2946961331,  353052432,\n",
       "         2574571448,  980401057,  781308701, 1358071203, 1176153018,\n",
       "         1026559546, 2562154780,  171464852,   54617817, 1480868366,\n",
       "         3458176028, 1792433476,  830923862,  113086598, 2577667667,\n",
       "         1718499997, 3638592214, 1128986265,   71355407, 1312060944,\n",
       "         1962272847, 3542916749,   63993424, 3399824415, 1106111042,\n",
       "          268209257, 1833221414, 2770741122, 3127147288, 3646111612,\n",
       "         2640465173, 1982680836, 2868322076, 3240259067, 1125431802,\n",
       "         2066726469,  867719965, 1200915936, 1195658101,  668637092,\n",
       "         3129223704, 3672293694, 2207706438,  692066602, 1702298574,\n",
       "         3400656876, 2035082172, 1276951799, 1374362514, 3834676748,\n",
       "         3919682589, 3453292145, 2688945667, 1268004914, 1794678597,\n",
       "         1042807928, 3686635487,  134443170, 2744772364, 1593111624,\n",
       "         4106380967, 1526945894, 2310356961,  203893331, 3458258010,\n",
       "           25742950, 3194188814,  480397720, 2802818263], dtype=uint32), 461, 0, 0.0))"
      ]
     },
     "execution_count": 7,
     "metadata": {},
     "output_type": "execute_result"
    }
   ],
   "source": [
    "gp = george.GP(kernel, mean=np.mean(y))\n",
    "gp.compute(t, err)\n",
    "print(gp.lnlikelihood(y))\n",
    "print(gp.grad_lnlikelihood(y))\n",
    "\n",
    "def lnprob(p):\n",
    "    # Trivial improper prior: uniform in the log.\n",
    "    if np.any((-10 > p) + (p > 10)):\n",
    "        return -np.inf\n",
    "    lnprior = 0.0\n",
    "\n",
    "    # Update the kernel and compute the lnlikelihood.\n",
    "    kernel.pars = np.exp(p)\n",
    "    return lnprior + gp.lnlikelihood(y, quiet=True)\n",
    "# You need to compute the GP once before starting. Then the sample list\n",
    "# will be saved.\n",
    "\n",
    "# Set up the sampler.\n",
    "nwalkers, ndim = 36, len(kernel)\n",
    "sampler = emcee.EnsembleSampler(nwalkers, ndim, lnprob)\n",
    "\n",
    "# Initialize the walkers.\n",
    "p0 = [np.log(kernel.pars) + 1e-4 * np.random.randn(ndim)\n",
    "      for i in range(nwalkers)]\n",
    "\n",
    "print(\"Running burn-in\")\n",
    "p0, _, _ = sampler.run_mcmc(p0, 2000)\n",
    "\n",
    "print(\"Running production chain\")\n",
    "sampler.run_mcmc(p0, 2000)"
   ]
  },
  {
   "cell_type": "code",
   "execution_count": 8,
   "metadata": {
    "collapsed": false
   },
   "outputs": [
    {
     "name": "stderr",
     "output_type": "stream",
     "text": [
      "/home/levicivita/.local/lib/python3.6/site-packages/george/utils.py:30: RuntimeWarning: covariance is not positive-semidefinite.\n",
      "  samples = np.random.multivariate_normal(mean, matrix, N)\n"
     ]
    },
    {
     "data": {
      "image/png": "[encoded data removed]",
      "text/plain": [
       "<matplotlib.figure.Figure at 0x7fbfe56c1b00>"
      ]
     },
     "metadata": {},
     "output_type": "display_data"
    }
   ],
   "source": [
    "x = np.linspace(min(t),max(t), 100)\n",
    "chain = sampler.chain\n",
    "for i in range(50):\n",
    "    # Choose a random walker and step.\n",
    "    w = np.random.randint(chain.shape[0])\n",
    "    n = np.random.randint(2000, chain.shape[1])\n",
    "    gp.kernel.pars = np.exp(chain[w, n])\n",
    "\n",
    "    # Plot a single sample.\n",
    "    plt.plot(x, gp.sample_conditional(y, x), \"k\", alpha=0.3)\n",
    "plt.show()"
   ]
  },
  {
   "cell_type": "code",
   "execution_count": null,
   "metadata": {
    "collapsed": true
   },
   "outputs": [],
   "source": []
  }
 ],
 "metadata": {
  "kernelspec": {
   "display_name": "Python 3",
   "language": "python",
   "name": "python3"
  },
  "language_info": {
   "codemirror_mode": {
    "name": "ipython",
    "version": 3
   },
   "file_extension": ".py",
   "mimetype": "text/x-python",
   "name": "python",
   "nbconvert_exporter": "python",
   "pygments_lexer": "ipython3",
   "version": "3.6.0"
  }
 },
 "nbformat": 4,
 "nbformat_minor": 2
}
