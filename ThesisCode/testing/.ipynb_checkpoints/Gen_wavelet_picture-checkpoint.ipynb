{
 "cells": [
  {
   "cell_type": "code",
   "execution_count": 1,
   "metadata": {
    "collapsed": true
   },
   "outputs": [],
   "source": [
    "import matplotlib.pyplot as plt\n",
    "import pywt\n",
    "import json\n",
    "import os, sys\n",
    "import numpy as np"
   ]
  },
  {
   "cell_type": "code",
   "execution_count": 11,
   "metadata": {},
   "outputs": [
    {
     "name": "stdout",
     "output_type": "stream",
     "text": [
      "([-0.12940952255126037, 0.2241438680420134, 0.8365163037378079, 0.48296291314453416], [-0.48296291314453416, 0.8365163037378079, -0.2241438680420134, -0.12940952255126037], [0.48296291314453416, 0.8365163037378079, 0.2241438680420134, -0.12940952255126037], [-0.12940952255126037, -0.2241438680420134, 0.8365163037378079, -0.48296291314453416])\n",
      "([-0.12940952255092145, 0.22414386804185735, 0.836516303737469, 0.48296291314469025], [-0.48296291314469025, 0.836516303737469, -0.22414386804185735, -0.12940952255092145], [0.48296291314469025, 0.836516303737469, 0.22414386804185735, -0.12940952255092145], [-0.12940952255092145, -0.22414386804185735, 0.836516303737469, -0.48296291314469025])\n"
     ]
    }
   ],
   "source": [
    "NUM_ITER = 10\n",
    "input_data = np.arange(30)\n",
    "\n",
    "db2 = pywt.Wavelet('db2')\n",
    "sym2 = pywt.Wavelet('sym2')\n",
    "\n",
    "def print_array(arr):\n",
    "    print(\"[%s]\" % \", \".join(([\"%.14f\" % x for x in arr])))\n",
    "    \n",
    "print(db2.filter_bank)\n",
    "print(sym2.filter_bank)\n",
    "\n",
    "#print(pywt.swt(input_data, 'db2'))\n",
    "#print(pywt.swt(input_data, 'sym2'))\n",
    "#print(pywt.swt(input_data, 'db1'))"
   ]
  },
  {
   "cell_type": "code",
   "execution_count": 13,
   "metadata": {},
   "outputs": [
    {
     "data": {
      "text/plain": [
       "41.913749085499816"
      ]
     },
     "execution_count": 13,
     "metadata": {},
     "output_type": "execute_result"
    }
   ],
   "source": []
  },
  {
   "cell_type": "code",
   "execution_count": null,
   "metadata": {
    "collapsed": true
   },
   "outputs": [],
   "source": []
  }
 ],
 "metadata": {
  "kernelspec": {
   "display_name": "Python 3",
   "language": "python",
   "name": "python3"
  },
  "language_info": {
   "codemirror_mode": {
    "name": "ipython",
    "version": 3
   },
   "file_extension": ".py",
   "mimetype": "text/x-python",
   "name": "python",
   "nbconvert_exporter": "python",
   "pygments_lexer": "ipython3",
   "version": "3.6.0"
  }
 },
 "nbformat": 4,
 "nbformat_minor": 2
}
