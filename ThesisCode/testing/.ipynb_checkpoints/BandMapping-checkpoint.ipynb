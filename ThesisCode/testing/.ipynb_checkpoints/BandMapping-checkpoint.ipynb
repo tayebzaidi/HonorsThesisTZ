{
 "cells": [
  {
   "cell_type": "code",
   "execution_count": 1,
   "metadata": {
    "collapsed": false
   },
   "outputs": [
    {
     "name": "stdout",
     "output_type": "stream",
     "text": [
      "BandMapping.ipynb   bestrest.pro\t   PythonRinterface\r\n",
      "bandMappingTest.py  loadFileTesting.ipynb  quickCode\r\n"
     ]
    }
   ],
   "source": [
    "!ls"
   ]
  },
  {
   "cell_type": "code",
   "execution_count": 2,
   "metadata": {
    "collapsed": false
   },
   "outputs": [],
   "source": [
    "import json\n",
    "import numpy as np\n",
    "import os\n",
    "import sys\n",
    "sys.path.append('../classification')"
   ]
  },
  {
   "cell_type": "code",
   "execution_count": 3,
   "metadata": {
    "collapsed": false
   },
   "outputs": [],
   "source": [
    "path_to_SNe = '../gen_lightcurves/gp_smoothed/'\n",
    "SNe_lightcurves = os.listdir(path_to_SNe)"
   ]
  },
  {
   "cell_type": "code",
   "execution_count": 4,
   "metadata": {
    "collapsed": false
   },
   "outputs": [
    {
     "name": "stdout",
     "output_type": "stream",
     "text": [
      "{'iprime__Standard', 'K__CSP', 'B_K 35_Landolt', 'r_Pan-STARRS1', 'rprime_CfA4_KEP2_Standard', 'rprime_', 'r_Palomar 48-in', 'i_Pan-STARRS1', 'g_1m0-12', 'i_LT', 'C_', 'uprime_CfA4_KEP2_Standard', 'r__CSP', 'B_', 'r_WISE', 'iprime_CfA4_KEP1_Standard', 'Ic_K 35_Landolt', 'I_CTIO-1.0m_Landolt', 'J_SWO', 'I_PROMPT5', 'Ks_PAIRITEL', 'i_PS1_AB', 'B__Vega', 'V_CfA3_4SH_Standard', 'i__Standard', 'B_kait4', 'B_CfA3_MINI_Standard', 'K__Standard', 'r_PTF60', 'U_CfA3_MINI_Standard', 'g_LT_AB', 'B__Standard', 'i_ESO Schmidt_Swope', 'V_1m0-08', 'i_1m0-11', 'Ic_ST', 'B_CfA4_KEP2_Standard', 'V_SWO', 'V__Standard', 'g_Palomar 60-in', 'I_CTIO-0.9m_Landolt', 'W1_Swift_Vega', 'B_1m0-11', 'U__Vega', 'V_1m0-13', 'U_CTIO-1.0m_Landolt', 'i_1m0-10', 'V_ANS 130_Landolt', 'iprime_CfA4_KEP2_Standard', 'r_1m0-08', 'B_CTIO-1.0m_Landolt', 'V__Swope', 'R_CTIO-1.0m_Landolt', 'g_1m0-11', 'C_Catalina Schmidt', 'V_ST', 'U_CTIO-0.9m_Landolt', 'V_1m0-11', 'H__CSP', 'g_SWO', 'V_kait2', 'I__AB', 'V_Swift', 'U_Swift_Swift', 'B_Swift_Vega', 'V_CfA3_MINI_Standard', 'V_PROMPT5', 'r_1m0-11', 'V_Swope', 'B_ANS 11_Landolt', 'K_', 'u__CSP', 'J_PAIRITEL', 'B_kait1', 'rprime__Standard', 'i_P60', 'r_1m0-09', 'B_KAIT', 'I__Standard', 'B_ESO Schmidt_Swope', 'I_kait2', 'rprime_CfA3_MINI_Standard', 'R_PROMPT5', 'I_YALO', 'U_ST', 'H_SWO', 'V_nickel', 'iprime_', 'U__Standard', 'V__CSP', 'uprime__SDSS', 'B_1m0-12', 'R_kait3', 'V_', 'iprime_CfA3_KEP_Standard', 'rprime_SDSS_SDSS', 'M2_Swift_Swift', 'W1_Swift', 'R__Standard', 'B_CfA4_KEP1_Standard', 'R_P48', 'r_1m0-10', 'H_', 'B_LCO-1m_Landolt', 'Rc_ANS 61_Landolt', 'B_kait3', 'U_', 'R_YALO', 'i_1m0-03', 'i_LT_AB', 'B_1m0-08', 'V_YALO', 'V_Swift_Swift', 'Clear_KAIT', 'Rc_ANS 157_Landolt', 'J__Standard', 'R_kait2', 'r_', 'rprime_Palomar-60', 'V_CTIO-0.9m_Landolt', 'V_CfA4_KEP2_Standard', 'r_LT_AB', 'B_CfA3_KEP_Standard', 'B_1m0-03', 'uprime_SDSS_SDSS', 'iprime__SDSS', 'U_Swift', 'Ic_ANS 130_Landolt', 'Bprime_SWO_SDSS', 'V__Vega', 'I_kait1', 'U_CfA3_KEP_Standard', 'w_Pan-STARRS1', 'gprime__SDSS', 'V_CTIO-1.0m_Landolt', 'B_Swope', 'V_ANS 11_Landolt', 'I_nickel', 'u_ESO Schmidt_Swope', 'rprime_SWO_SDSS', 'B_ST', 'Ic_ANS 157_Landolt', 'y_', 'zprime__SDSS', 'W1_Swift_Swift', 'g_1m0-08', 'i_1m0-08', 'V_1m0-12', 'W2_Swift', 'Rc_ANS 11_Landolt', 'r_LCOGT', 'g_LT', 'B_SWO', 'U_Swift_Vega', 'r_PS1_AB', 'R_CTIO-0.9m_Landolt', 'G__AB', 'i_1m0-12', 'U_CfA4_KEP1_Standard', 'uprime_SWO_SDSS', 'R_MK', 'Rc_ANS 130_Landolt', 'V_1m0-05', 'B_CTIO-0.9m_Landolt', 'V_kait3', 'i_', 'Ic_ANS 11_Landolt', 'I_', 'B__CSP', 'V_KAIT', 'V_CfA3_KEP_Standard', 'V_MK', 'R_LCO-1m_Landolt', 'V_ANS 61_Landolt', 'U_LCO-1m_Landolt', 'r__Standard', 'Ic_ANS 61_Landolt', 'r_1m0-12', 'B_nickel', 'z_', 'r_1m0-03', 'B_CfA3_4SH_Standard', 'gprime_SDSS_SDSS', 'M2_Swift_Vega', 'W2_Swift_Vega', 'V_LCO-1m_Landolt', 'R_CfA3_4SH_Standard', 'V__Landolt', 'R_', 'J_PAIRITEL_Standard', 'g_P60', 'z_LT_AB', 'B_ANS 130_Landolt', 'V_kait4', 'R__AB', 'iprime_CfA3_MINI_Standard', 'r_LT', 'G_GAIA', 'M2_Swift', 'I_kait3', 'B_P60', 'gprime_SWO_SDSS', 'iprime_SWO_SDSS', 'B_YALO', 'iprime_SDSS_SDSS', 'H__Standard', 'i__CSP', 'I_CfA3_4SH_Standard', 'J_', 'R_KAIT', 'Y_DUP', 'i_SWO', 'r_SWO', 'Vprime_SWO_SDSS', 'Rc_ST', 'B_ANS 157_Landolt', 'g+r_LSQ', 'z_Palomar 60-in', 'r_Palomar 60-in', 'J__CSP', 'R_P48+CFH12k', 'B_kait2', 'B_Swift', 'R_kait4', 'I_LCO-1m_Landolt', 'V_CfA4_KEP1_Standard', 'B_PROMPT3', 'H_PAIRITEL_Standard', 'H_PAIRITEL', 'g__CSP', 'gprime_', 'R_PTF48', 'V_Swift_Vega', 'Z_CTIO-0.9m_Landolt', 'Rc_K 35_Landolt', 'V_1m0-10', 'Z__AB', 'I__Vega', 'u_SWO', 'r_P60', 'Ks_PAIRITEL_Standard', 'V_ANS 157_Landolt', 'V_kait1', 'r_ESO Schmidt_Swope', 'rprime_CfA4_KEP1_Standard', 'B_ANS 61_Landolt', 'B_1m0-05', 'R_kait1', 'zprime_SDSS_SDSS', 'V_1m0-03', 'gprime_Palomar-60', 'I_kait4', 'rprime__SDSS', 'uprime__Standard', 'g_1m0-10', 'g_1m0-03', 'R__Vega', 'V_ESO Schmidt_Swope', 'Y_SWO', 'g_', 'z_PS1_AB', 'B_Swift_Swift', 'Y__CSP', 'V_K 35_Landolt', 'H_DUP', 'i_Palomar 60-in', 'I_KAIT', 'g_PS1_AB', 'rprime_CfA3_KEP_Standard', 'W2_Swift_Swift', 'g_ESO Schmidt_Swope', 'r_FTS', 'J_DUP'}\n"
     ]
    }
   ],
   "source": [
    "filters = []\n",
    "for lcurve in SNe_lightcurves:\n",
    "    with open(path_to_SNe + lcurve) as f:\n",
    "        lcurve_data = json.load(f)\n",
    "    filters += list(lcurve_data.keys())\n",
    "print(set(filters))"
   ]
  },
  {
   "cell_type": "code",
   "execution_count": 26,
   "metadata": {
    "collapsed": false
   },
   "outputs": [
    {
     "name": "stdout",
     "output_type": "stream",
     "text": [
      "(array([], dtype=int64),)\n",
      "[]\n"
     ]
    },
    {
     "ename": "TypeError",
     "evalue": "iteration over a 0-d array",
     "output_type": "error",
     "traceback": [
      "\u001b[0;31m---------------------------------------------------------------------------\u001b[0m",
      "\u001b[0;31mTypeError\u001b[0m                                 Traceback (most recent call last)",
      "\u001b[0;32m<ipython-input-26-9e2fd1d23d73>\u001b[0m in \u001b[0;36m<module>\u001b[0;34m()\u001b[0m\n\u001b[1;32m      5\u001b[0m \u001b[0mprint\u001b[0m\u001b[0;34m(\u001b[0m\u001b[0munique\u001b[0m\u001b[0;34m[\u001b[0m\u001b[0;34m'pair'\u001b[0m \u001b[0;32min\u001b[0m \u001b[0munique\u001b[0m\u001b[0;34m]\u001b[0m\u001b[0;34m)\u001b[0m\u001b[0;34m\u001b[0m\u001b[0m\n\u001b[1;32m      6\u001b[0m \u001b[0;34m\u001b[0m\u001b[0m\n\u001b[0;32m----> 7\u001b[0;31m \u001b[0;34m[\u001b[0m\u001b[0mx\u001b[0m \u001b[0;32mfor\u001b[0m \u001b[0mx\u001b[0m \u001b[0;32min\u001b[0m \u001b[0munique\u001b[0m \u001b[0;32mif\u001b[0m \u001b[0;34m'PAIR'\u001b[0m \u001b[0;32min\u001b[0m \u001b[0mx\u001b[0m\u001b[0;34m.\u001b[0m\u001b[0mlower\u001b[0m\u001b[0;34m(\u001b[0m\u001b[0;34m)\u001b[0m\u001b[0;34m]\u001b[0m\u001b[0;34m\u001b[0m\u001b[0m\n\u001b[0m\u001b[1;32m      8\u001b[0m \u001b[0;34m\u001b[0m\u001b[0m\n\u001b[1;32m      9\u001b[0m \u001b[0;31m#test = np.array(['test', 'testing', 'abcdefghijklmnopq', 'PAIR', 'pair'])\u001b[0m\u001b[0;34m\u001b[0m\u001b[0;34m\u001b[0m\u001b[0m\n",
      "\u001b[0;31mTypeError\u001b[0m: iteration over a 0-d array"
     ]
    }
   ],
   "source": [
    "len(set(filters))\n",
    "unique = set(filters)\n",
    "unique = np.array(unique)\n",
    "print(np.where('PAIR' in unique))\n",
    "print(unique['pair' in unique])\n",
    "\n",
    "[x for x in unique if 'PAIR' in x.lower()]\n",
    "\n",
    "#test = np.array(['test', 'testing', 'abcdefghijklmnopq', 'PAIR', 'pair'])\n",
    "#print(np.where('testing' in test))\n",
    "#print([x for x in test if 'PAIR' in x])"
   ]
  },
  {
   "cell_type": "code",
   "execution_count": null,
   "metadata": {
    "collapsed": false
   },
   "outputs": [],
   "source": [
    "import itertools\n",
    "import operator\n",
    "from collections import Counter\n",
    "\n",
    "def most_common(L):\n",
    "  # get an iterable of (item, iterable) pairs\n",
    "  SL = sorted((x, i) for i, x in enumerate(L))\n",
    "  # print 'SL:', SL\n",
    "  groups = itertools.groupby(SL, key=operator.itemgetter(0))\n",
    "  # auxiliary function to get \"quality\" for an item\n",
    "  def _auxfun(g):\n",
    "    item, iterable = g\n",
    "    count = 0\n",
    "    min_index = len(L)\n",
    "    for _, where in iterable:\n",
    "      count += 1\n",
    "      min_index = min(min_index, where)\n",
    "    # print 'item %r, count %r, minind %r' % (item, count, min_index)\n",
    "    return count, -min_index\n",
    "  # pick the highest-count/earliest item\n",
    "  return max(groups, key=_auxfun)[0]\n",
    "\n",
    "most_common(filters)\n",
    "Counter(filters)"
   ]
  },
  {
   "cell_type": "code",
   "execution_count": null,
   "metadata": {
    "collapsed": false
   },
   "outputs": [],
   "source": [
    "count = 0\n",
    "total = 0\n",
    "for filt in filters:\n",
    "    total+=1\n",
    "    if filt[0] in ['g','r','i','z', 'u', 'U', 'B','y','V','R', 'I', 'Y']:\n",
    "        count += 1\n",
    "    else:\n",
    "        if filt != 'C_Catalina Schmidt':\n",
    "            pass\n",
    "            #print(filt)\n",
    "print(count)\n",
    "print(total)\n",
    "print(count/total)"
   ]
  },
  {
   "cell_type": "code",
   "execution_count": null,
   "metadata": {
    "collapsed": false
   },
   "outputs": [],
   "source": [
    "filters_B = []\n",
    "for filt in filters:\n",
    "    if filt[0] == 'u':\n",
    "        filters_B.append(filt)\n",
    "c = Counter(filters_B)\n",
    "print(c)"
   ]
  },
  {
   "cell_type": "code",
   "execution_count": null,
   "metadata": {
    "collapsed": false
   },
   "outputs": [],
   "source": [
    "count = 0\n",
    "failed = 0\n",
    "filters = []\n",
    "filter_set = set(['g','r','i','z'])\n",
    "for lcurve in SNe_lightcurves:\n",
    "    with open(path_to_SNe + lcurve) as f:\n",
    "        lcurve_data = json.load(f)\n",
    "        \n",
    "    filters = list(lcurve_data.keys())\n",
    "    \n",
    "    filters_eff = []\n",
    "    for filt in filters:\n",
    "        filters_eff.append(filt[0].lower())\n",
    "    \n",
    "    if filter_set.issubset(set(filters_eff)):\n",
    "        count += 1\n",
    "        #print(filters)\n",
    "    else:\n",
    "        failed += 1\n",
    "\n",
    "total = count + failed\n",
    "print(count)\n",
    "print(count/total)"
   ]
  },
  {
   "cell_type": "code",
   "execution_count": 4,
   "metadata": {
    "collapsed": false
   },
   "outputs": [],
   "source": [
    "import bandMap"
   ]
  },
  {
   "cell_type": "code",
   "execution_count": 7,
   "metadata": {
    "collapsed": false
   },
   "outputs": [
    {
     "name": "stdout",
     "output_type": "stream",
     "text": [
      "793\n",
      "0.3133148952983011\n"
     ]
    }
   ],
   "source": [
    "count = 0\n",
    "failed = 0\n",
    "filters = []\n",
    "filter_set = set(['r','g','i'])\n",
    "for lcurve in SNe_lightcurves:\n",
    "    with open(path_to_SNe + lcurve) as f:\n",
    "        lcurve_data = json.load(f)\n",
    "        \n",
    "    lcurve_remapped = bandMap.remapBands(lcurve_data)\n",
    "    \n",
    "    out_filters = set(lcurve_remapped.keys())\n",
    "    \n",
    "    if filter_set.issubset(set(out_filters)):\n",
    "        count += 1\n",
    "        #print(filters)\n",
    "    else:\n",
    "        failed += 1\n",
    "\n",
    "total = count + failed\n",
    "print(count)\n",
    "print(count/total)"
   ]
  },
  {
   "cell_type": "code",
   "execution_count": null,
   "metadata": {
    "collapsed": true
   },
   "outputs": [],
   "source": []
  }
 ],
 "metadata": {
  "kernelspec": {
   "display_name": "Python 3",
   "language": "python",
   "name": "python3"
  },
  "language_info": {
   "codemirror_mode": {
    "name": "ipython",
    "version": 3
   },
   "file_extension": ".py",
   "mimetype": "text/x-python",
   "name": "python",
   "nbconvert_exporter": "python",
   "pygments_lexer": "ipython3",
   "version": "3.6.0"
  }
 },
 "nbformat": 4,
 "nbformat_minor": 2
}
