{
 "cells": [
  {
   "cell_type": "code",
   "execution_count": 9,
   "metadata": {
    "collapsed": true
   },
   "outputs": [],
   "source": [
    "import json\n",
    "import numpy as np\n",
    "import os, sys\n",
    "sys.path.append('../classification')\n",
    "import classify_nested\n",
    "from sklearn.feature_selection import f_classif\n",
    "from sklearn.feature_selection import SelectKBest"
   ]
  },
  {
   "cell_type": "code",
   "execution_count": 8,
   "metadata": {},
   "outputs": [
    {
     "name": "stdout",
     "output_type": "stream",
     "text": [
      "[0 0 0 1 0 1 1 0 1 0]\n",
      "[ 40.          38.04917698  36.19349672  34.42831906]\n",
      "(array([ 40.        ,  38.04917698,  36.19349672,  34.42831906]), array([ 0.01,  0.01,  0.01,  0.01]))\n",
      "(array([ 0.82848058,  1.17991447,  0.26375954,  1.63295256]), array([ 0.38931253,  0.30901636,  0.62142871,  0.23712545]))\n"
     ]
    },
    {
     "name": "stderr",
     "output_type": "stream",
     "text": [
      "/usr/lib/python3.6/site-packages/ipykernel/__main__.py:2: DeprecationWarning: This function is deprecated. Please call randint(1, 2 + 1) instead\n",
      "  from ipykernel import kernelapp as app\n"
     ]
    }
   ],
   "source": [
    "X = np.random.randn(40).reshape(10,4)\n",
    "y = np.array([np.random.random_integers(2)-1 for i in range(10)])\n",
    "print(X)\n",
    "print(y)\n",
    "\n",
    "print(classify_nested.customScore(X,y))\n",
    "print(f_classif(X,y))"
   ]
  },
  {
   "cell_type": "code",
   "execution_count": null,
   "metadata": {
    "collapsed": true
   },
   "outputs": [],
   "source": [
    "selector = SelectKBest(k=2)\n",
    "selector.fit"
   ]
  }
 ],
 "metadata": {
  "kernelspec": {
   "display_name": "Python 3",
   "language": "python",
   "name": "python3"
  },
  "language_info": {
   "codemirror_mode": {
    "name": "ipython",
    "version": 3
   },
   "file_extension": ".py",
   "mimetype": "text/x-python",
   "name": "python",
   "nbconvert_exporter": "python",
   "pygments_lexer": "ipython3",
   "version": "3.6.0"
  }
 },
 "nbformat": 4,
 "nbformat_minor": 2
}
