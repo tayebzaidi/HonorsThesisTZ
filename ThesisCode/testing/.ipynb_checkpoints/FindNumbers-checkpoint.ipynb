{
 "cells": [
  {
   "cell_type": "code",
   "execution_count": 2,
   "metadata": {
    "collapsed": true
   },
   "outputs": [],
   "source": [
    "import json\n",
    "import numpy as np\n",
    "import matplotlib.pyplot as plt\n",
    "import os, sys"
   ]
  },
  {
   "cell_type": "code",
   "execution_count": 4,
   "metadata": {},
   "outputs": [
    {
     "name": "stdout",
     "output_type": "stream",
     "text": [
      "{'I_lulin_Vega to i', 'V_CfA3_MINI to g', 'R_CTIO-1.0m_Landolt to r', 'R_kait1 to r', 'gprime_SDSS_SDSS to g', 'R_CTIO-1.5m_Landolt to r', 'Ic_ANS 130_Vega to i', 'B_CfA3_MINI to g', 'iprime__SDSS to i', 'g_SNLS_Vega to g', 'gprime__SDSS to g', 'U_CTIO-1.0m_Landolt to u', 'Vprime_SWO_SDSS to g', 'V_EKAR_Vega to g', 'V_CTIO-0.9m_Landolt to g', 'uprime_SWO_SDSS to u', 'U_LCO-1m_Landolt to u', 'I__Vega to i', 'u__CSP to u', 'V_CfA3_KEP to g', 'r_CSP to r', 'Ic_ANS 61_Vega to i', 'V__CSP to g', 'Rc_ANS 157_Vega to r', 'iprime_CfA3_MINI to i', 'rprime_SDSS_SDSS to r', 'V_Swift_Swift to g', 'I_kait3 to i', 'I_CTIO-0.9m_Landolt to i', 'rprime_SWO_SDSS to r', 'Ic_ANS 11_Vega to i', 'B_Swift to g', 'R_LCO-1m_Landolt to r', 'R_CTIO-0.9m_Landolt to r', 'I_NTT_Vega to i', 'I_kait1 to i', 'V_CfA4_KEP1 to g', 'U_Swift_Swift to u', 'R_CfA3_4SH to r', 'rprime_CfA3_KEP to r', 'I_CfA3_4SH to i', 'V_NTT_Vega to g', 'i__CSP to i', 'V_kait4 to g', 'U_Swift_Vega to u', 'U_Swift to u', 'B_CfA3_KEP to g', 'g__CSP to g', 'U_CTIO-0.9m_Landolt to u', 'uprime_SDSS_SDSS to u', 'U_CfA3_KEP to u', 'R_KAIT to r', 'U_CfA3_4SH to u', 'iprime_SWO_SDSS to i', 'I_LCO-1m_Landolt to i', 'rprime_CfA4_KEP1 to r', 'u_CSP to u', 'B_NTT_Vega to g', 'uprime_CfA4_KEP2 to u', 'iprime_CfA3_KEP to i', 'iprime_SDSS_SDSS to i', 'B_CfA4_KEP2 to g', 'Rc_ANS 11_Vega to r', 'rprime_CfA3_MINI to r', 'i_CSP to i', 'z_SNLS_Vega to z', 'V_Swift_Vega to g', 'R_lulin_Vega to r', 'uprime__SDSS to u', 'r_SNLS_Vega to r', 'zprime__SDSS to z', 'U_NTT_Vega to u', 'iprime_CfA4_KEP2 to i', 'V_kait3 to g', 'U_CfA4_KEP1 to u', 'B_kait2 to g', 'I_kait2 to i', 'iprime_CfA4_KEP1 to i', 'I_kait4 to i', 'Y__CSP to Y', 'V_kait1 to g', 'i_SNLS_Vega to i', 'B_kait4 to g', 'B_KAIT to g', 'zprime_SDSS_SDSS to z', 'r__CSP to r', 'rprime__SDSS to r', 'V_KAIT to g', 'R_kait2 to r', 'R_kait4 to r', 'B_CfA3_4SH to g', 'B_Swift_Vega to g', 'V__Vega to g', 'B__CSP to g', 'I_CTIO-1.0m_Landolt to i', 'R_NTT_Vega to r', 'B_kait3 to g', 'I_KAIT to i', 'g_CSP to g', 'R_kait3 to r', 'U_CfA3_MINI to u', 'rprime_CfA4_KEP2 to r', 'zprime_LCOGT_SDSS to z'}\n"
     ]
    }
   ],
   "source": [
    "path_to_SNe = '../gen_lightcurves/gp_smoothed/'\n",
    "SNe_lightcurves = os.listdir(path_to_SNe)\n",
    "\n",
    "filters = []\n",
    "for lcurve in SNe_lightcurves:\n",
    "    lightcurve_path = path_to_SNe + lcurve\n",
    "    #print(lightcurve_path)\n",
    "    with open(path_to_SNe + lcurve) as f:\n",
    "        lcurve_data = json.load(f)\n",
    "    \n",
    "    filters += [lcurve_data[list(lcurve_data)[i]]['mapping'] for i in range(len(list(lcurve_data)))]\n",
    "print(set(filters))"
   ]
  },
  {
   "cell_type": "code",
   "execution_count": null,
   "metadata": {
    "collapsed": true
   },
   "outputs": [],
   "source": [
    "filter_set = set(filters)\n",
    "Ia_count = Counter()\n",
    "non_Ia_count = Counter()\n",
    "\n",
    "for lcurve in SNe_lightcurves:\n",
    "    lightcurve_path = path_to_SNe + lcurve\n",
    "    #print(lightcurve_path)\n",
    "    with open(path_to_SNe + lcurve) as f:\n",
    "        lcurve_data = json.load(f)\n",
    "    \n",
    "    if 'g' not in lcurve_data.keys():\n",
    "        continue\n",
    "    filter_mapping = lcurve_data['g']['mapping']\n",
    "    Counter.update(filter_mapping)"
   ]
  }
 ],
 "metadata": {
  "kernelspec": {
   "display_name": "Python 3",
   "language": "python",
   "name": "python3"
  },
  "language_info": {
   "codemirror_mode": {
    "name": "ipython",
    "version": 3
   },
   "file_extension": ".py",
   "mimetype": "text/x-python",
   "name": "python",
   "nbconvert_exporter": "python",
   "pygments_lexer": "ipython3",
   "version": "3.6.0"
  }
 },
 "nbformat": 4,
 "nbformat_minor": 2
}
