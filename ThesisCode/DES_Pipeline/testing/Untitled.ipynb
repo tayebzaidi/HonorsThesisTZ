{
 "cells": [
  {
   "cell_type": "code",
   "execution_count": 5,
   "metadata": {
    "collapsed": true
   },
   "outputs": [],
   "source": [
    "import numpy as np\n",
    "import pickle\n",
    "import sys\n",
    "sys.path.append('../classification')\n",
    "import featureExtraction\n",
    "import feature_store\n",
    "sys.path.append('../gen_lightcurves')\n",
    "import json\n",
    "import numpy as np\n",
    "import rpy2\n",
    "import pywt\n",
    "from rpy2.robjects.packages import importr\n",
    "from importlib import reload"
   ]
  },
  {
   "cell_type": "code",
   "execution_count": 2,
   "metadata": {
    "collapsed": false
   },
   "outputs": [],
   "source": [
    "with open('../gen_lightcurves/des_sn.p', 'rb') as f:\n",
    "    lightcurves = pickle.load(f)\n",
    "test_key = np.random.permutation(list(lightcurves))[0]\n",
    "test_lightcurve = lightcurves[test_key]"
   ]
  },
  {
   "cell_type": "code",
   "execution_count": 15,
   "metadata": {
    "collapsed": false
   },
   "outputs": [
    {
     "name": "stdout",
     "output_type": "stream",
     "text": [
      "Number of Object coeffs:  400\n",
      "(200, 400)\n",
      "(200, 40)\n"
     ]
    }
   ],
   "source": [
    "reload(feature_store)\n",
    "hp = {'wavelet_type': 'sym2', 'wavelet_level': 1, 'num_band_coeffs': 10}\n",
    "feature_store.generate_decomposition(hp)"
   ]
  },
  {
   "cell_type": "code",
   "execution_count": null,
   "metadata": {
    "collapsed": false
   },
   "outputs": [],
   "source": [
    "get_pywt_wav_coeffs(test_lightcurve, 'sym2', 1);"
   ]
  },
  {
   "cell_type": "code",
   "execution_count": null,
   "metadata": {
    "collapsed": true
   },
   "outputs": [],
   "source": []
  },
  {
   "cell_type": "code",
   "execution_count": null,
   "metadata": {
    "collapsed": true
   },
   "outputs": [],
   "source": []
  }
 ],
 "metadata": {
  "kernelspec": {
   "display_name": "Python 3",
   "language": "python",
   "name": "python3"
  },
  "language_info": {
   "codemirror_mode": {
    "name": "ipython",
    "version": 3
   },
   "file_extension": ".py",
   "mimetype": "text/x-python",
   "name": "python",
   "nbconvert_exporter": "python",
   "pygments_lexer": "ipython3",
   "version": "3.6.0"
  }
 },
 "nbformat": 4,
 "nbformat_minor": 2
}
