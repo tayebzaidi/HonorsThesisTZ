{
 "cells": [
  {
   "cell_type": "code",
   "execution_count": 1,
   "metadata": {
    "collapsed": true
   },
   "outputs": [],
   "source": [
    "import json\n",
    "import pickle\n",
    "import os, sys\n",
    "sys.path.append('../gen_lightcurves')\n",
    "\n",
    "des_file = \"../gen_lightcurves/des_sn.p\"\n",
    "\n",
    "with open(des_file, 'rb') as f:\n",
    "    des_data = pickle.load(f)"
   ]
  },
  {
   "cell_type": "code",
   "execution_count": 14,
   "metadata": {},
   "outputs": [
    {
     "name": "stdout",
     "output_type": "stream",
     "text": [
      "dict_keys(['hostzerr', 'mjd', 'modelmag', 'modelerr', 'modeldate', 'type', 'goodstatus', 'hostz', 'kernel', 'dmag', 'confirm_type', 'mag', 'bsplinemag'])\n"
     ]
    }
   ],
   "source": [
    "lightcurve = des_data[198253]\n",
    "#lightcurve = des_data[85500]\n",
    "print(lightcurve[\"g\"].keys())"
   ]
  },
  {
   "cell_type": "code",
   "execution_count": 15,
   "metadata": {
    "collapsed": true
   },
   "outputs": [],
   "source": [
    "import matplotlib.pyplot as plt\n",
    "import matplotlib.gridspec as gridspec\n",
    "import numpy as np"
   ]
  },
  {
   "cell_type": "code",
   "execution_count": 16,
   "metadata": {
    "collapsed": true
   },
   "outputs": [],
   "source": [
    "gs = gridspec.GridSpec(2,2)\n",
    "fig = plt.figure(figsize=(8,6))\n",
    "SIZE = 5\n",
    "MEDIUM_SIZE = 8\n",
    "BIGGER_SIZE = 10\n",
    "\n",
    "plt.rc('font', size=SIZE)                # controls default text sizes\n",
    "plt.rc('axes', titlesize=BIGGER_SIZE)           # fontsize of the axes title\n",
    "plt.rc('axes', labelsize=MEDIUM_SIZE)    # fontsize of the x and y labels\n",
    "plt.rc('xtick', labelsize=MEDIUM_SIZE)          # fontsize of the tick labels\n",
    "plt.rc('ytick', labelsize=MEDIUM_SIZE)          # fontsize of the tick labels\n",
    "plt.rc('legend', fontsize=SIZE)          # legend fontsize\n",
    "plt.rc('figure', titlesize=BIGGER_SIZE)  # fontsize of the figure title\n",
    "\n",
    "left  = 0.125  # the left side of the subplots of the figure\n",
    "right = 0.9    # the right side of the subplots of the figure\n",
    "bottom = 0.1   # the bottom of the subplots of the figure\n",
    "top = 0.9      # the top of the subplots of the figure\n",
    "wspace = 0.2   # the amount of width reserved for blank space between subplots\n",
    "hspace = 0.2\n",
    "\n",
    "plt.subplots_adjust(hspace = 0.4)\n",
    "\n",
    "for i, filt in enumerate(lightcurve):\n",
    "    filt_data = lightcurve[filt]\n",
    "    mag = np.array(filt_data[\"mag\"])\n",
    "    magerr = np.array(filt_data[\"dmag\"])\n",
    "    date = np.array(filt_data[\"mjd\"]) - min(filt_data[\"mjd\"])\n",
    "    \n",
    "    modelmag = filt_data[\"modelmag\"]\n",
    "    modeldate = np.array(filt_data[\"modeldate\"]) - min(filt_data[\"modeldate\"])\n",
    "    \n",
    "    bsplinemag = filt_data[\"bsplinemag\"]\n",
    "    #print(mag - magerr)\n",
    "    sntype = filt_data[\"type\"]\n",
    "    \n",
    "    if filt == 'g':\n",
    "        ax = fig.add_subplot(gs[0])\n",
    "    elif filt == 'r':\n",
    "        ax = fig.add_subplot(gs[1])\n",
    "    elif filt == 'i':\n",
    "        ax = fig.add_subplot(gs[2])\n",
    "    elif filt == 'z':\n",
    "        ax = fig.add_subplot(gs[3])\n",
    "    ax.errorbar(date, mag, fmt='o', ecolor='k', yerr=magerr,label='Original', alpha=1, color='k', markersize=2,capsize=2)\n",
    "    #ax.plot(modeldate, modelmag, '-r', label='GP', alpha = 0.7)\n",
    "    ax.set_ylabel(\"flux\")\n",
    "    ax.set_xlabel(\"days\")\n",
    "    #Color mapping\n",
    "    if filt == 'z':\n",
    "        color='black'\n",
    "    elif filt=='g':\n",
    "        color='green'\n",
    "    elif filt=='r':\n",
    "        color='red'\n",
    "    elif filt=='i':\n",
    "        color=='orange'\n",
    "    ax.plot(modeldate, bsplinemag, color=color, label='BSpline', alpha=0.8)\n",
    "    \n",
    "    ax.set_title(filt.lower())\n",
    "#plt.show()\n",
    "plt.savefig('DES_4FiltersGP_Ia.png')"
   ]
  },
  {
   "cell_type": "markdown",
   "metadata": {},
   "source": []
  },
  {
   "cell_type": "code",
   "execution_count": null,
   "metadata": {
    "collapsed": true
   },
   "outputs": [],
   "source": []
  }
 ],
 "metadata": {
  "kernelspec": {
   "display_name": "Python 3",
   "language": "python",
   "name": "python3"
  },
  "language_info": {
   "codemirror_mode": {
    "name": "ipython",
    "version": 3
   },
   "file_extension": ".py",
   "mimetype": "text/x-python",
   "name": "python",
   "nbconvert_exporter": "python",
   "pygments_lexer": "ipython3",
   "version": "3.6.0"
  }
 },
 "nbformat": 4,
 "nbformat_minor": 2
}
